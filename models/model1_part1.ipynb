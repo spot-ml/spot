{
 "cells": [
  {
   "cell_type": "code",
   "execution_count": 11,
   "id": "ec505533-e121-476e-b71d-3025b571a3e1",
   "metadata": {},
   "outputs": [
    {
     "name": "stdout",
     "output_type": "stream",
     "text": [
      "/bin/bash: unzip: command not found\n"
     ]
    }
   ],
   "source": [
    "!unzip Datasets.zip -d Sexism_Detection_NLP"
   ]
  },
  {
   "cell_type": "code",
   "execution_count": 12,
   "id": "f77e230d-9932-488a-ab30-128f91474caa",
   "metadata": {},
   "outputs": [],
   "source": [
    "import zipfile\n",
    "with zipfile.ZipFile(\"Datasets.zip\",\"r\") as zip_ref:\n",
    "    zip_ref.extractall(\"\")"
   ]
  },
  {
   "attachments": {},
   "cell_type": "markdown",
   "id": "6f887166",
   "metadata": {},
   "source": [
    "Importing Libraries"
   ]
  },
  {
   "cell_type": "code",
   "execution_count": 21,
   "id": "a7b56eff-5a3b-4c96-9c47-0b3f56d59eea",
   "metadata": {},
   "outputs": [
    {
     "name": "stderr",
     "output_type": "stream",
     "text": [
      "[nltk_data] Downloading package stopwords to /home/jovyan/nltk_data...\n",
      "[nltk_data]   Package stopwords is already up-to-date!\n",
      "[nltk_data] Downloading package wordnet to /home/jovyan/nltk_data...\n",
      "[nltk_data]   Package wordnet is already up-to-date!\n"
     ]
    },
    {
     "name": "stdout",
     "output_type": "stream",
     "text": []
    }
   ],
   "source": [
    "import time\n",
    "import os\n",
    "import markov\n",
    "import numpy as np\n",
    "import pandas as pd\n",
    "import re\n",
    "import matplotlib.pyplot as plt\n",
    "import nltk             # importing natural language toolkit library, useful in various data preprocessing tasks\n",
    "nltk.download('stopwords')\n",
    "nltk.download('wordnet')\n",
    "from nltk.stem import WordNetLemmatizer\n",
    "from nltk.corpus import stopwords\n",
    "from markov.api.model import ModelRecorder   # importing Model recorder from markov, used for experiment recording\n",
    "from markov.api.recording.experiments.integrations.keras.keras_auto_record import auto_record\n",
    "# from markov.api.recording.integrations.keras.keras_auto_record import auto_record\n",
    "from markov.api.schemas.model_recording import ModelRecordingConfig, SingleTagInferenceRecord\n",
    "import pandas as pd \n",
    "from sklearn.metrics import classification_report, accuracy_score\n",
    "from sklearn.feature_extraction.text import TfidfVectorizer\n",
    "from sklearn.model_selection import train_test_split\n",
    "from sklearn.linear_model import LogisticRegression  # used for making Logistic regression model\n",
    "from sklearn import tree  # used for making Decision Tree model"
   ]
  },
  {
   "cell_type": "code",
   "execution_count": 22,
   "id": "fb7c8aad-ee93-4d43-9dd6-d70bb763cf53",
   "metadata": {},
   "outputs": [
    {
     "data": {
      "text/plain": [
       "14000"
      ]
     },
     "execution_count": 22,
     "metadata": {},
     "output_type": "execute_result"
    },
    {
     "name": "stdout",
     "output_type": "stream",
     "text": []
    }
   ],
   "source": [
    "# read file\n",
    "filepath = os.path.join(os.path.curdir, \"Datasets\", \"Initial_Dataset.csv\")\n",
    "df = pd.read_csv(filepath)\n",
    "df.head()\n",
    "len(df)"
   ]
  },
  {
   "attachments": {},
   "cell_type": "markdown",
   "id": "512c0c4c",
   "metadata": {},
   "source": [
    "Data Preprocessing"
   ]
  },
  {
   "cell_type": "code",
   "execution_count": 23,
   "id": "c2ad521a-0671-4cff-910b-d1f47e460cfe",
   "metadata": {},
   "outputs": [
    {
     "name": "stdout",
     "output_type": "stream",
     "text": []
    }
   ],
   "source": [
    "def clean_text(text):\n",
    "    \"\"\"Removes HTML tags and removes punctuation from the text\"\"\"\n",
    "    text = text.lower() \n",
    "    text = re.sub(r'http\\S+', '', text)\n",
    "    text = re.sub(r'www\\S+', '', text) \n",
    "    text = re.sub(r'<.*?>', '', text)  \n",
    "    text = re.sub(r'[^\\w\\s]', '', text)\n",
    "    text = re.sub('\\s+', ' ', text) \n",
    "    return text\n",
    "\n",
    "def remove_stopword(text, stopwords):\n",
    "    \"\"\"Removes common words such as \"the\" and \"a\" from the text\"\"\"\n",
    "    return \" \".join([word for word in text.split() if word not in (stop_words)])\n",
    "\n",
    "def lemma_text(text, lemmatizer):\n",
    "    \"\"\"Reduces words to their base forms using lemmatization\"\"\"\n",
    "    lemmatized_words = [lemmatizer.lemmatize(word) for word in tokenize(text)]\n",
    "    return \" \".join(lemmatized_words)\n",
    "\n",
    "def tokenize(text):\n",
    "    \"\"\"Splits the text into individual words\"\"\"\n",
    "    return text.split()\n",
    "\n",
    "def process_text(text, lemmatizer, stop_words):\n",
    "    \"\"\"Combines the functions to clean and preprocess the text\"\"\"\n",
    "    text = clean_text(text)\n",
    "    text = remove_stopword(text, stop_words)\n",
    "    text = lemma_text(text, lemmatizer)\n",
    "    return text \n",
    "\n",
    "stop_words = stopwords.words('english')\n",
    "lemmatizer = WordNetLemmatizer()"
   ]
  },
  {
   "cell_type": "code",
   "execution_count": 24,
   "id": "551f5480-ea5a-4eec-a784-64db3b4e06f1",
   "metadata": {},
   "outputs": [
    {
     "data": {
      "text/html": [
       "<div>\n",
       "<style scoped>\n",
       "    .dataframe tbody tr th:only-of-type {\n",
       "        vertical-align: middle;\n",
       "    }\n",
       "\n",
       "    .dataframe tbody tr th {\n",
       "        vertical-align: top;\n",
       "    }\n",
       "\n",
       "    .dataframe thead th {\n",
       "        text-align: right;\n",
       "    }\n",
       "</style>\n",
       "<table border=\"1\" class=\"dataframe\">\n",
       "  <thead>\n",
       "    <tr style=\"text-align: right;\">\n",
       "      <th></th>\n",
       "      <th>text</th>\n",
       "      <th>label_sexist</th>\n",
       "      <th>processed_text</th>\n",
       "    </tr>\n",
       "  </thead>\n",
       "  <tbody>\n",
       "    <tr>\n",
       "      <th>0</th>\n",
       "      <td>Damn, this writing was pretty chaotic</td>\n",
       "      <td>not sexist</td>\n",
       "      <td>damn writing pretty chaotic</td>\n",
       "    </tr>\n",
       "    <tr>\n",
       "      <th>1</th>\n",
       "      <td>Yeah, and apparently a bunch of misogynistic v...</td>\n",
       "      <td>not sexist</td>\n",
       "      <td>yeah apparently bunch misogynistic virgin one ...</td>\n",
       "    </tr>\n",
       "    <tr>\n",
       "      <th>2</th>\n",
       "      <td>How the FUCK is this woman still an MP!!!???</td>\n",
       "      <td>not sexist</td>\n",
       "      <td>fuck woman still mp</td>\n",
       "    </tr>\n",
       "    <tr>\n",
       "      <th>3</th>\n",
       "      <td>Understand. Know you're right. At same time I ...</td>\n",
       "      <td>not sexist</td>\n",
       "      <td>understand know youre right time know isnt eno...</td>\n",
       "    </tr>\n",
       "    <tr>\n",
       "      <th>4</th>\n",
       "      <td>Surprized they didn't stop and rape some women</td>\n",
       "      <td>not sexist</td>\n",
       "      <td>surprized didnt stop rape woman</td>\n",
       "    </tr>\n",
       "    <tr>\n",
       "      <th>5</th>\n",
       "      <td>yeah but in order to keep the benefit i have t...</td>\n",
       "      <td>not sexist</td>\n",
       "      <td>yeah order keep benefit good tommorow told cou...</td>\n",
       "    </tr>\n",
       "    <tr>\n",
       "      <th>6</th>\n",
       "      <td>Hahaha I just wish they would live their truth...</td>\n",
       "      <td>not sexist</td>\n",
       "      <td>hahaha wish would live truth cut shit wouldnt ...</td>\n",
       "    </tr>\n",
       "    <tr>\n",
       "      <th>7</th>\n",
       "      <td>head mod said she talked to him after he made ...</td>\n",
       "      <td>not sexist</td>\n",
       "      <td>head mod said talked made post wont tell anyon...</td>\n",
       "    </tr>\n",
       "    <tr>\n",
       "      <th>8</th>\n",
       "      <td>just the inside of your wallet: cash, bank car...</td>\n",
       "      <td>sexist</td>\n",
       "      <td>inside wallet cash bank card credit card debit...</td>\n",
       "    </tr>\n",
       "    <tr>\n",
       "      <th>9</th>\n",
       "      <td>We most definitely did. I didn’t go too much i...</td>\n",
       "      <td>not sexist</td>\n",
       "      <td>definitely didnt go much detail happened put s...</td>\n",
       "    </tr>\n",
       "  </tbody>\n",
       "</table>\n",
       "</div>"
      ],
      "text/plain": [
       "                                                text label_sexist  \\\n",
       "0              Damn, this writing was pretty chaotic   not sexist   \n",
       "1  Yeah, and apparently a bunch of misogynistic v...   not sexist   \n",
       "2       How the FUCK is this woman still an MP!!!???   not sexist   \n",
       "3  Understand. Know you're right. At same time I ...   not sexist   \n",
       "4     Surprized they didn't stop and rape some women   not sexist   \n",
       "5  yeah but in order to keep the benefit i have t...   not sexist   \n",
       "6  Hahaha I just wish they would live their truth...   not sexist   \n",
       "7  head mod said she talked to him after he made ...   not sexist   \n",
       "8  just the inside of your wallet: cash, bank car...       sexist   \n",
       "9  We most definitely did. I didn’t go too much i...   not sexist   \n",
       "\n",
       "                                      processed_text  \n",
       "0                        damn writing pretty chaotic  \n",
       "1  yeah apparently bunch misogynistic virgin one ...  \n",
       "2                                fuck woman still mp  \n",
       "3  understand know youre right time know isnt eno...  \n",
       "4                    surprized didnt stop rape woman  \n",
       "5  yeah order keep benefit good tommorow told cou...  \n",
       "6  hahaha wish would live truth cut shit wouldnt ...  \n",
       "7  head mod said talked made post wont tell anyon...  \n",
       "8  inside wallet cash bank card credit card debit...  \n",
       "9  definitely didnt go much detail happened put s...  "
      ]
     },
     "execution_count": 24,
     "metadata": {},
     "output_type": "execute_result"
    },
    {
     "name": "stdout",
     "output_type": "stream",
     "text": []
    }
   ],
   "source": [
    "# stores the result in a new column called 'processed_text'\n",
    "df[\"processed_text\"] = df['text'].apply(process_text, lemmatizer = lemmatizer, stop_words = stop_words)\n",
    "df.head(10)"
   ]
  },
  {
   "cell_type": "code",
   "execution_count": 25,
   "id": "0529ffcb-3e97-474e-9cfb-8849876330bd",
   "metadata": {},
   "outputs": [
    {
     "name": "stdout",
     "output_type": "stream",
     "text": [
      "class_sexist: (3398, 3)\n",
      "class_notsexist: (10602, 3)\n"
     ]
    }
   ],
   "source": [
    "# Under sampling the data\n",
    "# class count\n",
    "class_notsexist, class_sexist = df['label_sexist'].value_counts()\n",
    "class_notsexist, class_sexist\n",
    "\n",
    "# Separate class\n",
    "class_s = df[df['label_sexist'] == \"sexist\"]\n",
    "class_ns = df[df['label_sexist'] == \"not sexist\"]\n",
    "print('class_sexist:', class_s.shape)\n",
    "print('class_notsexist:', class_ns.shape)"
   ]
  },
  {
   "cell_type": "code",
   "execution_count": 26,
   "id": "2ff75c82-20cf-4ed2-821b-666cd1d48e0e",
   "metadata": {},
   "outputs": [
    {
     "data": {
      "text/plain": [
       "<AxesSubplot:title={'center':'count (target)'}>"
      ]
     },
     "execution_count": 26,
     "metadata": {},
     "output_type": "execute_result"
    },
    {
     "data": {
      "image/png": "[encoded data removed]",
      "text/plain": [
       "<Figure size 432x288 with 1 Axes>"
      ]
     },
     "metadata": {
      "needs_background": "light"
     },
     "output_type": "display_data"
    },
    {
     "name": "stdout",
     "output_type": "stream",
     "text": []
    }
   ],
   "source": [
    "# 1000 additional samples, this is done to address imbalanced classes\n",
    "class_ns_under = class_ns.sample(class_sexist+1000)\n",
    "df_under = pd.concat([class_ns_under, class_s], axis=0)\n",
    "df_under['label_sexist'].value_counts().plot(kind='bar', title='count (target)')"
   ]
  },
  {
   "cell_type": "code",
   "execution_count": 27,
   "id": "9c84f279-13d0-4d6b-84a6-e69ecdcc157a",
   "metadata": {},
   "outputs": [
    {
     "name": "stdout",
     "output_type": "stream",
     "text": []
    }
   ],
   "source": [
    "# To create feature vectors from the preprocessed text data.\n",
    "tfidf = TfidfVectorizer()\n",
    "tfidf_text_vec = tfidf.fit_transform(df_under.processed_text)"
   ]
  },
  {
   "cell_type": "code",
   "execution_count": 28,
   "id": "69c63759-68af-4d11-bc55-2f36f0a02f8c",
   "metadata": {},
   "outputs": [
    {
     "name": "stdout",
     "output_type": "stream",
     "text": []
    }
   ],
   "source": [
    "# splits the data into training and test sets\n",
    "x_train_a, x_test_a, y_train_a, y_test_a = train_test_split(tfidf_text_vec, df_under['label_sexist'], test_size=0.2, train_size=0.8, random_state=5, shuffle=True)\n"
   ]
  },
  {
   "cell_type": "markdown",
   "id": "b738decb-2b00-459a-84bc-fd03e44521e8",
   "metadata": {},
   "source": [
    "Logistic Regression"
   ]
  },
  {
   "cell_type": "code",
   "execution_count": 29,
   "id": "4e4d4e16-9f6d-472d-8b53-6fbf782f8bf2",
   "metadata": {},
   "outputs": [
    {
     "name": "stdout",
     "output_type": "stream",
     "text": [
      "✔ Registering Hyper Parameter Recorder with Markov Backend. Recorder successfully registered.\n",
      "ℹ You can view the experiment at \u001b\\https://app.markovml.com/wsp-27m23rbvum/experiments/hp-7HhrVVmTVwBsvWotx3KDvAE\u001b]8;;\u001b\\\n",
      "\r"
     ]
    }
   ],
   "source": [
    "LR_model = f\"model_1_LR{int(time.time())}\"\n",
    "LR_recorder = markov.ExperimentRecorder(name=LR_model, notes=f\"Logistic Regression: {LR_model}\")\n",
    "# auto_record(name=MODEL_NAME, notes=f\"Auto Recording Keras Model with Name: {MODEL_NAME}\"\n",
    "#                                    f\" with Sentence Encoder\")"
   ]
  },
  {
   "cell_type": "code",
   "execution_count": 30,
   "id": "0ff9862d-40d7-44ee-8762-3fa9472a1f80",
   "metadata": {},
   "outputs": [
    {
     "name": "stdout",
     "output_type": "stream",
     "text": [
      "ℹ Starting recorder to track training data on markov backend.\n",
      "✔ Please wait while we send the remaining data to the markov backend... Recording has successfully completed.\n",
      "ℹ You can view the experiment at \u001b\\https://app.markovml.com/wsp-27m23rbvum/experiments/hp-7HhrVVmTVwBsvWotx3KDvAE\u001b]8;;\u001b\\\n",
      "Accuracy: 74.29%\n",
      "              precision    recall  f1-score   support\n",
      "\n",
      "  not sexist       0.72      0.88      0.80       883\n",
      "      sexist       0.79      0.56      0.65       677\n",
      "\n",
      "    accuracy                           0.74      1560\n",
      "   macro avg       0.75      0.72      0.72      1560\n",
      "weighted avg       0.75      0.74      0.73      1560\n",
      "\n",
      "\r"
     ]
    }
   ],
   "source": [
    "with LR_recorder:\n",
    "    lrm = LogisticRegression(penalty='l2', random_state=0).fit(x_train_a, y_train_a)\n",
    "\n",
    "# prediction on test data \n",
    "lrm_pred = lrm.predict(x_test_a)\n",
    "\n",
    "# estimate accuracy between predicted and actual test data\n",
    "acc = accuracy_score(lrm_pred, y_test_a)  \n",
    "print(\"Accuracy:\",str('{:04.2f}'.format(acc*100))+'%')\n",
    "print(classification_report(y_test_a, lrm_pred))\n",
    "clsf_report = pd.DataFrame(classification_report(y_test_a, lrm_pred, output_dict=True)).transpose()\n",
    "\n",
    "#save the report\n",
    "clsf_report.to_csv(os.path.join(os.path.curdir, \"result\", \"task_a_cls_report_logistic_reg.csv\"), index= True)"
   ]
  },
  {
   "cell_type": "code",
   "execution_count": null,
   "id": "7cd38f30",
   "metadata": {},
   "outputs": [],
   "source": [
    "import pickle\n",
    "\n",
    "# save the model\n",
    "filename = 'logistic_regression_model.sav'\n",
    "pickle.dump(lrm, open(filename, 'wb'))\n",
    "\n",
    "# load the model\n",
    "loaded_model = pickle.load(open(filename, 'rb'))\n",
    "result = loaded_model.score(x_test_a, y_test_a)\n",
    "print(result)"
   ]
  },
  {
   "cell_type": "code",
   "execution_count": null,
   "id": "da3fa7ad",
   "metadata": {},
   "outputs": [],
   "source": [
    "def predict_sexism(text, model, tfidf, lemmatizer, stop_words):\n",
    "    text = process_text(text, lemmatizer, stop_words)\n",
    "    text_vec = tfidf.transform([text])\n",
    "    prediction = model.predict(text_vec)\n",
    "    return prediction[0]\n",
    "\n",
    "# test the function\n",
    "example_text = \"I was told no woman who had children under the age of 6 had any business being outside the home.\"\n",
    "pred = predict_sexism(example_text, loaded_model, tfidf, lemmatizer, stop_words)\n",
    "print(pred) # should print 'not sexist' or 'sexist'"
   ]
  },
  {
   "cell_type": "markdown",
   "id": "5cbe7bd4-b573-4f86-b4d1-508448943fea",
   "metadata": {},
   "source": [
    "Decision Tree\n"
   ]
  },
  {
   "cell_type": "code",
   "execution_count": null,
   "id": "19b9fc13-5696-4160-ac0e-f3f756b61ac2",
   "metadata": {},
   "outputs": [],
   "source": [
    "DT_model = f\"model_1_DT{int(time.time())}\"\n",
    "DT_recorder = markov.ExperimentRecorder(name=DT_model, notes=f\"Decision Tree: {DT_model}\")\n",
    "# auto_record(name=MODEL_NAME, notes=f\"Auto Recording Keras Model with Name: {MODEL_NAME}\"\n",
    "#                                    f\" with Sentence Encoder\")"
   ]
  },
  {
   "cell_type": "code",
   "execution_count": null,
   "id": "8b1a6915-bc59-4895-8d67-af6f7f2a752f",
   "metadata": {},
   "outputs": [],
   "source": [
    "with DT_recorder:\n",
    "    dt_clf = tree.DecisionTreeClassifier(criterion='entropy', max_features=20)\n",
    "    dt_clf.fit(x_train_a, y_train_a)\n",
    "\n",
    "# prediction on test data \n",
    "pred = dt_clf.predict(x_test_a)\n",
    "\n",
    "# estimate accuracy between predicted and actual test data\n",
    "acc = accuracy_score(pred, y_test_a)\n",
    "print(\"Accuracy:\",str('{:04.2f}'.format(acc*100))+'%')\n",
    "print(classification_report(y_test_a, pred))\n",
    "clsf_report = pd.DataFrame(classification_report(y_test_a, pred, output_dict=True)).transpose()\n",
    "\n",
    "#save the report\n",
    "clsf_report.to_csv(os.path.join(os.path.curdir, \"result\", \"task_a_cls_report_logistic_decision_tree.csv\"), index= True)"
   ]
  },
  {
   "cell_type": "code",
   "execution_count": null,
   "id": "43821953",
   "metadata": {},
   "outputs": [],
   "source": []
  }
 ],
 "metadata": {
  "kernelspec": {
   "display_name": "Python 3 (ipykernel)",
   "language": "python",
   "name": "python3"
  },
  "language_info": {
   "codemirror_mode": {
    "name": "ipython",
    "version": 3
   },
   "file_extension": ".py",
   "mimetype": "text/x-python",
   "name": "python",
   "nbconvert_exporter": "python",
   "pygments_lexer": "ipython3",
   "version": "3.9.7"
  }
 },
 "nbformat": 4,
 "nbformat_minor": 5
}
