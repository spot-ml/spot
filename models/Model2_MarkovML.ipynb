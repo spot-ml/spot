{
 "cells": [
  {
   "cell_type": "code",
   "execution_count": 1,
   "id": "8f417660-d295-4316-816c-eaaa40235cd3",
   "metadata": {},
   "outputs": [
    {
     "name": "stderr",
     "output_type": "stream",
     "text": [
      "[nltk_data] Downloading package stopwords to /home/jovyan/nltk_data...\n",
      "[nltk_data]   Package stopwords is already up-to-date!\n",
      "[nltk_data] Downloading package punkt to /home/jovyan/nltk_data...\n",
      "[nltk_data]   Package punkt is already up-to-date!\n",
      "[nltk_data] Downloading package wordnet to /home/jovyan/nltk_data...\n",
      "[nltk_data]   Package wordnet is already up-to-date!\n",
      "[nltk_data] Downloading package omw-1.4 to /home/jovyan/nltk_data...\n",
      "[nltk_data]   Package omw-1.4 is already up-to-date!\n"
     ]
    },
    {
     "name": "stdout",
     "output_type": "stream",
     "text": [
      "Collecting scikit-plot\n",
      "  Using cached scikit_plot-0.3.7-py3-none-any.whl (33 kB)\n",
      "Requirement already satisfied: scipy>=0.9 in /opt/conda/lib/python3.9/site-packages (from scikit-plot) (1.9.3)\n",
      "Requirement already satisfied: joblib>=0.10 in /opt/conda/lib/python3.9/site-packages (from scikit-plot) (1.1.1)\n",
      "Requirement already satisfied: scikit-learn>=0.18 in /opt/conda/lib/python3.9/site-packages (from scikit-plot) (1.2.0)\n",
      "Requirement already satisfied: matplotlib>=1.4.0 in /opt/conda/lib/python3.9/site-packages (from scikit-plot) (3.5.3)\n",
      "Requirement already satisfied: numpy>=1.17 in /opt/conda/lib/python3.9/site-packages (from matplotlib>=1.4.0->scikit-plot) (1.23.5)\n",
      "Requirement already satisfied: fonttools>=4.22.0 in /opt/conda/lib/python3.9/site-packages (from matplotlib>=1.4.0->scikit-plot) (4.38.0)\n",
      "Requirement already satisfied: pyparsing>=2.2.1 in /opt/conda/lib/python3.9/site-packages (from matplotlib>=1.4.0->scikit-plot) (2.4.7)\n",
      "Requirement already satisfied: cycler>=0.10 in /opt/conda/lib/python3.9/site-packages (from matplotlib>=1.4.0->scikit-plot) (0.11.0)\n",
      "Requirement already satisfied: python-dateutil>=2.7 in /opt/conda/lib/python3.9/site-packages (from matplotlib>=1.4.0->scikit-plot) (2.8.2)\n",
      "Requirement already satisfied: packaging>=20.0 in /opt/conda/lib/python3.9/site-packages (from matplotlib>=1.4.0->scikit-plot) (23.0)\n",
      "Requirement already satisfied: pillow>=6.2.0 in /opt/conda/lib/python3.9/site-packages (from matplotlib>=1.4.0->scikit-plot) (9.4.0)\n",
      "Requirement already satisfied: kiwisolver>=1.0.1 in /opt/conda/lib/python3.9/site-packages (from matplotlib>=1.4.0->scikit-plot) (1.4.4)\n",
      "Requirement already satisfied: threadpoolctl>=2.0.0 in /opt/conda/lib/python3.9/site-packages (from scikit-learn>=0.18->scikit-plot) (3.1.0)\n",
      "Requirement already satisfied: six>=1.5 in /opt/conda/lib/python3.9/site-packages (from python-dateutil>=2.7->matplotlib>=1.4.0->scikit-plot) (1.16.0)\n",
      "Installing collected packages: scikit-plot\n",
      "Successfully installed scikit-plot-0.3.7\n"
     ]
    }
   ],
   "source": [
    "import numpy as np\n",
    "import pandas as pd\n",
    "import markov\n",
    "import nltk\n",
    "nltk.download('stopwords')\n",
    "nltk.download('punkt')\n",
    "nltk.download('wordnet')\n",
    "nltk.download('omw-1.4')\n",
    "from nltk.stem import WordNetLemmatizer\n",
    "from nltk.stem.porter import PorterStemmer\n",
    "from nltk.corpus import stopwords\n",
    "from sklearn.model_selection import train_test_split\n",
    "from sklearn.feature_extraction.text import TfidfVectorizer\n",
    "from sklearn.metrics import confusion_matrix, f1_score, classification_report, accuracy_score, f1_score, log_loss, recall_score, precision_score \n",
    "! pip install scikit-plot\n",
    "import scikitplot as skplt\n",
    "import re\n",
    "import os\n",
    "\n",
    "from matplotlib import pyplot as plt\n",
    "%config InlineBackend.figure_format = 'retina'\n",
    "\n",
    "from torch.utils.data import Dataset,DataLoader\n",
    "import torch\n",
    "from sklearn.preprocessing import MultiLabelBinarizer\n",
    "import torch.nn as nn\n",
    "import torch.optim as optim\n",
    "import math"
   ]
  },
  {
   "cell_type": "code",
   "execution_count": 2,
   "id": "99d70d81-3fba-4689-8c99-8e66b92f4ed5",
   "metadata": {},
   "outputs": [],
   "source": [
    "data1 = pd.read_csv(\"./Datasets/master_dataset.csv\").fillna(' ')"
   ]
  },
  {
   "cell_type": "code",
   "execution_count": 3,
   "id": "b72869fa-ba4c-4451-9cf2-e2ef417f19fb",
   "metadata": {},
   "outputs": [],
   "source": [
    "df = data1[data1.label_sexist == 'sexist']\n",
    "ndf = data1[data1.label_sexist == 'not sexist']\n",
    "add_df = ndf.sample(2000)\n",
    "frames = [add_df,df]\n",
    "data = pd.concat(frames)"
   ]
  },
  {
   "cell_type": "code",
   "execution_count": 4,
   "id": "6c198c51-1db9-4cee-b88f-f320591c9dac",
   "metadata": {},
   "outputs": [],
   "source": [
    "def clean_text(text):\n",
    "    \"\"\"Removes HTML tags and removes punctuation from the text\"\"\"\n",
    "    text = text.lower() #lower case\n",
    "    text = re.sub(r'http\\S+', '', text) # remove http links\n",
    "    text = re.sub(r'www\\S+', '', text)  # remove www website\n",
    "    text = re.sub(r'<.*?>', '', text)  # remove html tags\n",
    "    text = re.sub(r'[^\\w\\s]', '', text) # remove special characters like !,@,#,$,%\n",
    "    text = re.sub('\\s+', ' ', text) # replace multiple space by single space\n",
    "    return text\n",
    "\n",
    "def remove_stopword(text, stopwords):\n",
    "    \"\"\"Removes common words such as \"the\" and \"a\" from the text\"\"\"    \n",
    "    return \" \".join([word for word in text.split() if word not in (stop_words)])\n",
    "  \n",
    "def lemma_text(text, lemmatizer):\n",
    "    \"\"\"Reduces words to their base forms using lemmatization\"\"\"\n",
    "    lemmatized_words = [lemmatizer.lemmatize(word) for word in tokenize(text)]\n",
    "    return \" \".join(lemmatized_words)\n",
    "\n",
    "def stem_text(text, stemmer):\n",
    "    \"\"\"Reduces words to their base forms using the provided stemmer\"\"\"\n",
    "    stemmed_words = [stemmer.stem(word) for word in tokenize(text)]\n",
    "    return \" \".join(stemmed_words)\n",
    "\n",
    "def tokenize(text):\n",
    "    \"\"\"Splits the text into individual words\"\"\"\n",
    "    return text.split()\n",
    "\n",
    "def process_text(text, lemmatizer, stemmer, stop_words):\n",
    "    text = clean_text(text)\n",
    "    text = remove_stopword(text, stop_words)\n",
    "    #text = lemma_text(text, lemmatizer)\n",
    "    #text = stem_text(text, stemmer)\n",
    "    return text #tokenize(text) #START_TOKEN + \" \".join(tokenize(text)) + STOP_TOKEN\n",
    "stop_words = stopwords.words('english')\n",
    "lemmatizer = WordNetLemmatizer()\n",
    "stemmer = PorterStemmer()"
   ]
  },
  {
   "cell_type": "code",
   "execution_count": 5,
   "id": "1307608c-f7f4-4caa-8745-f2d25b5b3d78",
   "metadata": {},
   "outputs": [
    {
     "data": {
      "text/html": [
       "<div>\n",
       "<style scoped>\n",
       "    .dataframe tbody tr th:only-of-type {\n",
       "        vertical-align: middle;\n",
       "    }\n",
       "\n",
       "    .dataframe tbody tr th {\n",
       "        vertical-align: top;\n",
       "    }\n",
       "\n",
       "    .dataframe thead th {\n",
       "        text-align: right;\n",
       "    }\n",
       "</style>\n",
       "<table border=\"1\" class=\"dataframe\">\n",
       "  <thead>\n",
       "    <tr style=\"text-align: right;\">\n",
       "      <th></th>\n",
       "      <th>text</th>\n",
       "      <th>label_sexist</th>\n",
       "      <th>processed_text</th>\n",
       "    </tr>\n",
       "  </thead>\n",
       "  <tbody>\n",
       "    <tr>\n",
       "      <th>3589</th>\n",
       "      <td>Hell, she just says what lots of fems think.</td>\n",
       "      <td>not sexist</td>\n",
       "      <td>hell says lots fems think</td>\n",
       "    </tr>\n",
       "    <tr>\n",
       "      <th>13858</th>\n",
       "      <td>Nice, I'm looking for a photo of a babe pointi...</td>\n",
       "      <td>not sexist</td>\n",
       "      <td>nice im looking photo babe pointing ump45 hips...</td>\n",
       "    </tr>\n",
       "    <tr>\n",
       "      <th>13613</th>\n",
       "      <td>LMAO 😂 BROOO.....honestly I hope a nigga tells...</td>\n",
       "      <td>not sexist</td>\n",
       "      <td>lmao brooohonestly hope nigga tells get slim i...</td>\n",
       "    </tr>\n",
       "    <tr>\n",
       "      <th>1565</th>\n",
       "      <td>Hold onto your hats ladies and gentlemen, this...</td>\n",
       "      <td>not sexist</td>\n",
       "      <td>hold onto hats ladies gentlemen ride get littl...</td>\n",
       "    </tr>\n",
       "    <tr>\n",
       "      <th>12170</th>\n",
       "      <td>But she will be queen of the cats! All 32 of t...</td>\n",
       "      <td>not sexist</td>\n",
       "      <td>queen cats 32 see rules throne cat piss</td>\n",
       "    </tr>\n",
       "  </tbody>\n",
       "</table>\n",
       "</div>"
      ],
      "text/plain": [
       "                                                    text label_sexist  \\\n",
       "3589        Hell, she just says what lots of fems think.   not sexist   \n",
       "13858  Nice, I'm looking for a photo of a babe pointi...   not sexist   \n",
       "13613  LMAO 😂 BROOO.....honestly I hope a nigga tells...   not sexist   \n",
       "1565   Hold onto your hats ladies and gentlemen, this...   not sexist   \n",
       "12170  But she will be queen of the cats! All 32 of t...   not sexist   \n",
       "\n",
       "                                          processed_text  \n",
       "3589                           hell says lots fems think  \n",
       "13858  nice im looking photo babe pointing ump45 hips...  \n",
       "13613  lmao brooohonestly hope nigga tells get slim i...  \n",
       "1565   hold onto hats ladies gentlemen ride get littl...  \n",
       "12170            queen cats 32 see rules throne cat piss  "
      ]
     },
     "execution_count": 5,
     "metadata": {},
     "output_type": "execute_result"
    }
   ],
   "source": [
    "# stores the result in a new column called 'processed_text'\n",
    "data[\"processed_text\"] = data['text'].apply(process_text, lemmatizer = lemmatizer, stemmer = stemmer, stop_words = stop_words)\n",
    "data.head(5)"
   ]
  },
  {
   "cell_type": "code",
   "execution_count": 6,
   "id": "9b42f26e-f963-44df-993a-df063c62cdda",
   "metadata": {},
   "outputs": [],
   "source": [
    "train_X, test_X, train_Y, test_Y = train_test_split(data['processed_text'], data['label_sexist'],stratify=data['label_sexist'], test_size=0.25)"
   ]
  },
  {
   "cell_type": "code",
   "execution_count": 7,
   "id": "3ae52e99-dbf1-41b4-bea5-579f02c6e7b7",
   "metadata": {},
   "outputs": [],
   "source": [
    "labels = [str(i).split('/') for i in train_Y]\n",
    "text= train_X"
   ]
  },
  {
   "cell_type": "code",
   "execution_count": 8,
   "id": "7b3d7951-c688-415a-99ab-ab7810c68e84",
   "metadata": {},
   "outputs": [],
   "source": [
    "\"\"\"The code creates a Tf-idf vectorizer with a minimum document frequency of 5, \n",
    "applies it to a list of texts, then creates a multilabel binarizer and \n",
    "fits it to a list of labels. It creates arrays for the input and output features, and \n",
    "splits the data into training and test sets\"\"\"\n",
    "\n",
    "tfidfvectorizer = TfidfVectorizer(min_df = 5) #max_features=3000\n",
    "x_tfidf = tfidfvectorizer.fit_transform(text).toarray()\n",
    "mlb = MultiLabelBinarizer()\n",
    "mlb.fit(labels)\n",
    "Y = mlb.transform(labels)\n",
    "n_op_features = len(Y[0])\n",
    "train_x,test_x,train_y,test_y = train_test_split(x_tfidf,Y,test_size=0.2)\n",
    "n_ip_features = len(train_x[0])"
   ]
  },
  {
   "cell_type": "code",
   "execution_count": 9,
   "id": "9e21b523-c20c-4aec-929b-3fce9725ed95",
   "metadata": {},
   "outputs": [],
   "source": [
    "class TextDataset(Dataset):\n",
    "  '''This code block converts the arrays into tensors for pytorch.'''\n",
    "  def __init__(self, X, y):\n",
    "    self.X = torch.tensor(X)\n",
    "    self.y = torch.tensor(y)\n",
    "  def __len__(self):\n",
    "    return len(self.y)\n",
    "  def __getitem__(self,index):\n",
    "    return self.X[index], self.y[index]"
   ]
  },
  {
   "cell_type": "code",
   "execution_count": 10,
   "id": "f5fd2337-58e8-4290-ab98-a3fd54453490",
   "metadata": {},
   "outputs": [],
   "source": [
    "# DataLoader Definition\n",
    "batch_size = 128\n",
    "train_ds = TextDataset(X=train_x, y=train_y)\n",
    "test_ds = TextDataset(X=test_x, y=test_y)\n",
    "dataloader_train = DataLoader(dataset=train_ds,batch_size=batch_size, shuffle=True)\n",
    "dataloader_test = DataLoader(dataset=test_ds, batch_size=batch_size, shuffle=True)"
   ]
  },
  {
   "cell_type": "code",
   "execution_count": 11,
   "id": "4da21374-d496-4e7f-840f-f01f05388dd5",
   "metadata": {},
   "outputs": [],
   "source": [
    "class MLP(nn.Module):\n",
    "  '''Multi-layered perceptron based classifier'''\n",
    "  def __init__(self, num_features,out_features):\n",
    "    \"\"\"\n",
    "    Args:\n",
    "        num_features (int): the size of the input feature vector\n",
    "    \"\"\"\n",
    "    super(MLP, self).__init__()\n",
    "    self.fc1 = nn.Linear(in_features=num_features, out_features=64)\n",
    "    print(\"num f:\", num_features)\n",
    "    self.fc2 = nn.Linear(in_features=64,out_features=32)\n",
    "    self.fc3 = nn.Linear(in_features=32,out_features=out_features)\n",
    "\n",
    "  def forward(self, x_in, apply_softmax=False):\n",
    "    \"\"\"The forward pass of the classifier\n",
    "    \n",
    "    Args:\n",
    "        x_in (torch.Tensor): an input data tensor. \n",
    "            x_in.shape should be (batch, num_features)\n",
    "        apply_softmax (bool): a flag for the sigmoid activation\n",
    "            should be false if used with the Cross Entropy losses\n",
    "    Returns:\n",
    "        the resulting tensor. tensor.shape should be (batch,)\n",
    "    \"\"\"\n",
    "    y_out_1 = torch.relu(self.fc1(x_in))\n",
    "    y_out_2 = self.fc2(y_out_1)\n",
    "    y_out = self.fc3(y_out_2)\n",
    "    return y_out"
   ]
  },
  {
   "cell_type": "code",
   "execution_count": 12,
   "id": "d90c338e-d15e-4905-a302-d73c0d337824",
   "metadata": {},
   "outputs": [],
   "source": [
    "# CUDA\n",
    "cuda = torch.cuda.is_available()\n",
    "device = torch.device(\"cuda\" if cuda else \"cpu\")"
   ]
  },
  {
   "cell_type": "code",
   "execution_count": 13,
   "id": "f6dad17b-37db-443c-880f-dc36326579d4",
   "metadata": {},
   "outputs": [
    {
     "name": "stdout",
     "output_type": "stream",
     "text": [
      "✔ Creating Project with name Test project_5 Project created successfully.\n",
      "\r"
     ]
    }
   ],
   "source": [
    "from markov import Project, ProjectScope\n",
    "\n",
    "# Create a new project\n",
    "my_project = Project(\n",
    "    # project name\n",
    "    name=\"Test project_5\",\n",
    "    # project description (optional)\n",
    "    description=\"Testing a project feature\",\n",
    "    # project visibility (optional; public by default)\n",
    "    project_scope=ProjectScope.PUBLIC,\n",
    ")"
   ]
  },
  {
   "cell_type": "code",
   "execution_count": 15,
   "id": "68c682b6-efd0-4cfc-a2df-6ee91cc431eb",
   "metadata": {},
   "outputs": [
    {
     "name": "stdout",
     "output_type": "stream",
     "text": [
      "num f: 2002\n",
      "37\n",
      "✔ Creating Model Model creation successful!\n",
      "✔ Registering Hyper Parameter Recorder with Markov Backend. Recorder successfully registered.\n",
      "ℹ You can view the experiment at \u001b\\https://app.markovml.com/wsp-27m23rbvum/proj/38MgTudXeG7cA5/experiments/hp-3VAfL68JtrXGqKhH9LrrzwK\u001b]8;;\u001b\\\n",
      "\r"
     ]
    }
   ],
   "source": [
    "# Training the model\n",
    "learning_rate=0.0001\n",
    "num_epochs=40\n",
    "hyper_parameters = {\"learning_rate\":0.0001,\"num_epochs\":40}\n",
    "epoch_loss_list=[]\n",
    "epoch_acc_list=[]\n",
    "val_epoch_acc_list=[]\n",
    "val_epoch_loss_list=[]\n",
    "\n",
    "model = MLP(n_ip_features,n_op_features)\n",
    "model.to(device)\n",
    "loss_func = nn.BCEWithLogitsLoss()\n",
    "optimizer = optim.Adam(model.parameters(), lr=learning_rate)\n",
    "\n",
    "n_iter=math.ceil(len(train_ds)/batch_size)\n",
    "print(n_iter)\n",
    "\n",
    "\n",
    "# Use the ExperimentRecorder constuctor provided by the MarkovML SDK\n",
    "# to create a new experiment recorder\n",
    "recorder = markov.ExperimentRecorder(\n",
    "    # Name of the experiment recording\n",
    "    name=\"Test_Experiment_12\",\n",
    "    # Project associated with the experiment\n",
    "    project_id=my_project.project_id,\n",
    "    # project_id=\"3Tfz2jR4xNF23H\",\n",
    "    # Hyper-parameters used for model training\n",
    "    hyper_parameters = {\"learning_rate\":0.0001,\"num_epochs\":40},\n",
    "    # Additional notes (optional)\n",
    "    model_class=markov.ModelClass.TAGGING,\n",
    "    notes=\"This is a test experiment\"\n",
    ")"
   ]
  },
  {
   "cell_type": "code",
   "execution_count": 16,
   "id": "ab14c769-fc27-4a21-8908-1e80bbd2253a",
   "metadata": {},
   "outputs": [
    {
     "name": "stdout",
     "output_type": "stream",
     "text": [
      "ℹ Starting recorder to track training data on markov backend.\n",
      "epoch : 1/40\n",
      "----------------------------------------\n",
      "loss : 0.677 \t val loss : 0.674\n",
      "acc :0.75 \t val acc :0.722\n",
      "++++++++++++++++++++++++++++++++++++++++\n",
      "epoch : 2/40\n",
      "----------------------------------------\n",
      "loss : 0.67 \t val loss : 0.67\n",
      "acc :0.75 \t val acc :0.722\n",
      "++++++++++++++++++++++++++++++++++++++++\n",
      "epoch : 3/40\n",
      "----------------------------------------\n",
      "loss : 0.66 \t val loss : 0.66\n",
      "acc :0.75 \t val acc :0.722\n",
      "++++++++++++++++++++++++++++++++++++++++\n",
      "epoch : 4/40\n",
      "----------------------------------------\n",
      "loss : 0.648 \t val loss : 0.651\n",
      "acc :0.75 \t val acc :0.722\n",
      "++++++++++++++++++++++++++++++++++++++++\n",
      "epoch : 5/40\n",
      "----------------------------------------\n",
      "loss : 0.633 \t val loss : 0.635\n",
      "acc :0.75 \t val acc :0.722\n",
      "++++++++++++++++++++++++++++++++++++++++\n",
      "epoch : 6/40\n",
      "----------------------------------------\n",
      "loss : 0.615 \t val loss : 0.616\n",
      "acc :0.75 \t val acc :0.722\n",
      "++++++++++++++++++++++++++++++++++++++++\n",
      "epoch : 7/40\n",
      "----------------------------------------\n",
      "loss : 0.595 \t val loss : 0.601\n",
      "acc :0.75 \t val acc :0.722\n",
      "++++++++++++++++++++++++++++++++++++++++\n",
      "epoch : 8/40\n",
      "----------------------------------------\n",
      "loss : 0.573 \t val loss : 0.595\n",
      "acc :0.75 \t val acc :0.722\n",
      "++++++++++++++++++++++++++++++++++++++++\n",
      "epoch : 9/40\n",
      "----------------------------------------\n",
      "loss : 0.553 \t val loss : 0.591\n",
      "acc :0.75 \t val acc :0.722\n",
      "++++++++++++++++++++++++++++++++++++++++\n",
      "epoch : 10/40\n",
      "----------------------------------------\n",
      "loss : 0.536 \t val loss : 0.555\n",
      "acc :0.75 \t val acc :0.722\n",
      "++++++++++++++++++++++++++++++++++++++++\n",
      "epoch : 11/40\n",
      "----------------------------------------\n",
      "loss : 0.521 \t val loss : 0.545\n",
      "acc :0.75 \t val acc :0.722\n",
      "++++++++++++++++++++++++++++++++++++++++\n",
      "epoch : 12/40\n",
      "----------------------------------------\n",
      "loss : 0.509 \t val loss : 0.537\n",
      "acc :0.75 \t val acc :0.722\n",
      "++++++++++++++++++++++++++++++++++++++++\n",
      "epoch : 13/40\n",
      "----------------------------------------\n",
      "loss : 0.497 \t val loss : 0.561\n",
      "acc :0.75 \t val acc :0.722\n",
      "++++++++++++++++++++++++++++++++++++++++\n",
      "epoch : 14/40\n",
      "----------------------------------------\n",
      "loss : 0.485 \t val loss : 0.555\n",
      "acc :0.751 \t val acc :0.723\n",
      "++++++++++++++++++++++++++++++++++++++++\n",
      "epoch : 15/40\n",
      "----------------------------------------\n",
      "loss : 0.474 \t val loss : 0.536\n",
      "acc :0.754 \t val acc :0.725\n",
      "++++++++++++++++++++++++++++++++++++++++\n",
      "epoch : 16/40\n",
      "----------------------------------------\n",
      "loss : 0.461 \t val loss : 0.537\n",
      "acc :0.759 \t val acc :0.73\n",
      "++++++++++++++++++++++++++++++++++++++++\n",
      "epoch : 17/40\n",
      "----------------------------------------\n",
      "loss : 0.447 \t val loss : 0.512\n",
      "acc :0.766 \t val acc :0.734\n",
      "++++++++++++++++++++++++++++++++++++++++\n",
      "epoch : 18/40\n",
      "----------------------------------------\n",
      "loss : 0.433 \t val loss : 0.491\n",
      "acc :0.773 \t val acc :0.739\n",
      "++++++++++++++++++++++++++++++++++++++++\n",
      "epoch : 19/40\n",
      "----------------------------------------\n",
      "loss : 0.417 \t val loss : 0.52\n",
      "acc :0.78 \t val acc :0.747\n",
      "++++++++++++++++++++++++++++++++++++++++\n",
      "epoch : 20/40\n",
      "----------------------------------------\n",
      "loss : 0.401 \t val loss : 0.49\n",
      "acc :0.788 \t val acc :0.752\n",
      "++++++++++++++++++++++++++++++++++++++++\n",
      "epoch : 21/40\n",
      "----------------------------------------\n",
      "loss : 0.386 \t val loss : 0.483\n",
      "acc :0.802 \t val acc :0.755\n",
      "++++++++++++++++++++++++++++++++++++++++\n",
      "epoch : 22/40\n",
      "----------------------------------------\n",
      "loss : 0.37 \t val loss : 0.477\n",
      "acc :0.817 \t val acc :0.765\n",
      "++++++++++++++++++++++++++++++++++++++++\n",
      "epoch : 23/40\n",
      "----------------------------------------\n",
      "loss : 0.356 \t val loss : 0.469\n",
      "acc :0.828 \t val acc :0.774\n",
      "++++++++++++++++++++++++++++++++++++++++\n",
      "epoch : 24/40\n",
      "----------------------------------------\n",
      "loss : 0.342 \t val loss : 0.466\n",
      "acc :0.84 \t val acc :0.781\n",
      "++++++++++++++++++++++++++++++++++++++++\n",
      "epoch : 25/40\n",
      "----------------------------------------\n",
      "loss : 0.329 \t val loss : 0.461\n",
      "acc :0.85 \t val acc :0.78\n",
      "++++++++++++++++++++++++++++++++++++++++\n",
      "epoch : 26/40\n",
      "----------------------------------------\n",
      "loss : 0.317 \t val loss : 0.444\n",
      "acc :0.859 \t val acc :0.781\n",
      "++++++++++++++++++++++++++++++++++++++++\n",
      "epoch : 27/40\n",
      "----------------------------------------\n",
      "loss : 0.305 \t val loss : 0.471\n",
      "acc :0.866 \t val acc :0.788\n",
      "++++++++++++++++++++++++++++++++++++++++\n",
      "epoch : 28/40\n",
      "----------------------------------------\n",
      "loss : 0.294 \t val loss : 0.455\n",
      "acc :0.878 \t val acc :0.797\n",
      "++++++++++++++++++++++++++++++++++++++++\n",
      "epoch : 29/40\n",
      "----------------------------------------\n",
      "loss : 0.284 \t val loss : 0.449\n",
      "acc :0.883 \t val acc :0.801\n",
      "++++++++++++++++++++++++++++++++++++++++\n",
      "epoch : 30/40\n",
      "----------------------------------------\n",
      "loss : 0.276 \t val loss : 0.465\n",
      "acc :0.887 \t val acc :0.796\n",
      "++++++++++++++++++++++++++++++++++++++++\n",
      "epoch : 31/40\n",
      "----------------------------------------\n",
      "loss : 0.268 \t val loss : 0.442\n",
      "acc :0.895 \t val acc :0.794\n",
      "++++++++++++++++++++++++++++++++++++++++\n",
      "epoch : 32/40\n",
      "----------------------------------------\n",
      "loss : 0.26 \t val loss : 0.466\n",
      "acc :0.896 \t val acc :0.794\n",
      "++++++++++++++++++++++++++++++++++++++++\n",
      "epoch : 33/40\n",
      "----------------------------------------\n",
      "loss : 0.252 \t val loss : 0.451\n",
      "acc :0.902 \t val acc :0.794\n",
      "++++++++++++++++++++++++++++++++++++++++\n",
      "epoch : 34/40\n",
      "----------------------------------------\n",
      "loss : 0.246 \t val loss : 0.476\n",
      "acc :0.904 \t val acc :0.797\n",
      "++++++++++++++++++++++++++++++++++++++++\n",
      "epoch : 35/40\n",
      "----------------------------------------\n",
      "loss : 0.24 \t val loss : 0.455\n",
      "acc :0.907 \t val acc :0.798\n",
      "++++++++++++++++++++++++++++++++++++++++\n",
      "epoch : 36/40\n",
      "----------------------------------------\n",
      "loss : 0.233 \t val loss : 0.451\n",
      "acc :0.91 \t val acc :0.797\n",
      "++++++++++++++++++++++++++++++++++++++++\n",
      "epoch : 37/40\n",
      "----------------------------------------\n",
      "loss : 0.228 \t val loss : 0.462\n",
      "acc :0.912 \t val acc :0.797\n",
      "++++++++++++++++++++++++++++++++++++++++\n",
      "epoch : 38/40\n",
      "----------------------------------------\n",
      "loss : 0.223 \t val loss : 0.501\n",
      "acc :0.917 \t val acc :0.797\n",
      "++++++++++++++++++++++++++++++++++++++++\n",
      "epoch : 39/40\n",
      "----------------------------------------\n",
      "loss : 0.218 \t val loss : 0.48\n",
      "acc :0.918 \t val acc :0.798\n",
      "++++++++++++++++++++++++++++++++++++++++\n",
      "epoch : 40/40\n",
      "----------------------------------------\n",
      "loss : 0.213 \t val loss : 0.488\n",
      "acc :0.922 \t val acc :0.798\n",
      "++++++++++++++++++++++++++++++++++++++++\n",
      "✔ Please wait while we send the remaining data to the markov backend... Recording has successfully completed.\n",
      "ℹ You can view the experiment at \u001b\\https://app.markovml.com/wsp-27m23rbvum/proj/38MgTudXeG7cA5/experiments/hp-3VAfL68JtrXGqKhH9LrrzwK\u001b]8;;\u001b\\\n",
      "\r"
     ]
    }
   ],
   "source": [
    "losses = []\n",
    "with recorder:\n",
    "    for epoch in range(num_epochs):\n",
    "      epoch_loss = 0\n",
    "      epoch_acc=0\n",
    "      val_epoch_loss=0\n",
    "      val_epoch_acc=0\n",
    "      for k,(X,y) in enumerate(dataloader_train):\n",
    "        # the training routine is these 5 steps:\n",
    "\n",
    "        # step 1. load the data\n",
    "        X = X.to(device)\n",
    "        y = y.to(device)\n",
    "        optimizer.zero_grad()\n",
    "\n",
    "        # step 2. compute the output\n",
    "        y_pred = model(x_in=X.float())\n",
    "        y_1 = (y_pred).to('cpu').detach().numpy()\n",
    "        y_1=(np.array(y_1) >= 0)*1\n",
    "        y_0=y.to('cpu').detach().numpy()\n",
    "        acc = sum([(y_0[i]==y_1[i]).all()*1 for i in range(len(y_0))])\n",
    "        epoch_acc+= acc\n",
    "        # recorder.add_record({\"accuracy\": acc})\n",
    "        # recorder.add_record({\"accuracy per epoch\": epoch_acc})\n",
    "\n",
    "    # step 3. compute the loss\n",
    "        loss = loss_func(y_pred, y.squeeze(1).float())\n",
    "        # recorder.add_record({\"loss\": loss})\n",
    "        epoch_loss+= loss.item()\n",
    "\n",
    "    # step 4. use loss to produce gradients\n",
    "        loss.backward()\n",
    "\n",
    "    # step 5. use optimizer to take gradient step\n",
    "        optimizer.step()\n",
    "      epoch_loss = round(epoch_loss/(k+1),3)\n",
    "      epoch_loss_list.append(epoch_loss)\n",
    "      epoch_acc = round(epoch_acc/len(train_ds),3)\n",
    "      epoch_acc_list.append(epoch_acc)\n",
    "  \n",
    "      for k,(X,y) in enumerate(dataloader_test):\n",
    "        X = X.to(device)\n",
    "        y = y.to(device)\n",
    "        y_pred = model(x_in=X.float())\n",
    "        y_1 = (y_pred).to('cpu').detach().numpy()\n",
    "        y_1=(np.array(y_1) >= 0)*1\n",
    "        y_0=y.to('cpu').detach().numpy()\n",
    "        val_acc = sum([(y_0[i]==y_1[i]).all()*1 for i in range(len(y_0))])\n",
    "        # recorder.add_record({\"val_acc\": val_acc})\n",
    "        val_epoch_acc+=val_acc\n",
    "        # recorder.add_record({\"val_accuracy per epoch\": val_epoch_acc})\n",
    "        loss = loss_func(y_pred, y.squeeze(1).float())\n",
    "        # recorder.add_record({\"loss2\": loss})\n",
    "        val_epoch_loss+= loss.item()\n",
    "        # recorder.add_record({\"loss per epoch\": val_epoch_loss})\n",
    "\n",
    "      val_epoch_acc=round(val_epoch_acc/len(test_ds),3)\n",
    "      val_epoch_acc_list.append(val_epoch_acc)\n",
    "      val_epoch_loss = round(val_epoch_loss/(k+1),3)\n",
    "      val_epoch_loss_list.append(val_epoch_loss)\n",
    "      print('epoch : ' + str(epoch+1)+'/'+str(num_epochs))\n",
    "      print(\"-\"*40)\n",
    "      print('loss : ' + str(epoch_loss)+ ' \\t val loss : '+ str(val_epoch_loss)+ '\\nacc :' + str(epoch_acc)+ ' \\t val acc :' + str(val_epoch_acc))\n",
    "      print(\"+\"*40)  # -----------------------------------------\n",
    "      losses.append(epoch_loss)\n",
    "      recorder.add_record({\"loss\": epoch_loss})\n",
    "      recorder.add_record({\"val_loss\": val_epoch_loss})\n",
    "      recorder.add_record({\"accuracy\": epoch_acc})\n",
    "      recorder.add_record({\"val_accuracy\": val_epoch_acc})"
   ]
  },
  {
   "cell_type": "code",
   "execution_count": 17,
   "id": "4ab184de-81d9-46d7-8c18-311ca325fe3e",
   "metadata": {},
   "outputs": [
    {
     "name": "stdout",
     "output_type": "stream",
     "text": []
    },
    {
     "name": "stdout",
     "output_type": "stream",
     "text": []
    },
    {
     "name": "stdout",
     "output_type": "stream",
     "text": [
      "\r"
     ]
    }
   ],
   "source": [
    "def plot_graph(plot_var,train_plot_list,val_plot_list):\n",
    "  '''Function for visualizing the Accuracy and Loss'''\n",
    "  epochs = len(train_plot_list)\n",
    "  fig = plt.figure(figsize=(8,6))\n",
    "  if plot_var==\"accuracy\": plt.title(\"Train/Validation Accuracy\")\n",
    "  elif plot_var ==\"loss\" : plt.title(\"Train/Validation Loss\")\n",
    "  plt.plot(list(np.arange(epochs) + 1) , train_plot_list, label='train')\n",
    "  plt.plot(list(np.arange(epochs) + 1), val_plot_list, label='validation')\n",
    "  plt.xlabel('num_epochs', fontsize=12)\n",
    "  plt.ylabel('loss', fontsize=12)\n",
    "  plt.legend(loc='best')\n",
    "  if plot_var==\"accuracy\": plt.savefig(\"./result/task_a_train_Val_accuracy.png\")\n",
    "  elif plot_var ==\"loss\" : plt.savefig(\"./result/task_a_train_Val_loss.png\")\n",
    "  return"
   ]
  },
  {
   "cell_type": "code",
   "execution_count": 18,
   "id": "34969325-91a2-40f5-829d-edf61f023098",
   "metadata": {},
   "outputs": [
    {
     "data": {
      "image/png": "[encoded data removed]",
      "text/plain": [
       "<Figure size 576x432 with 1 Axes>"
      ]
     },
     "metadata": {
      "image/png": {
       "height": 389,
       "width": 512
      },
      "needs_background": "light"
     },
     "output_type": "display_data"
    },
    {
     "data": {
      "image/png": "[encoded data removed]",
      "text/plain": [
       "<Figure size 576x432 with 1 Axes>"
      ]
     },
     "metadata": {
      "image/png": {
       "height": 389,
       "width": 499
      },
      "needs_background": "light"
     },
     "output_type": "display_data"
    },
    {
     "name": "stdout",
     "output_type": "stream",
     "text": []
    },
    {
     "name": "stdout",
     "output_type": "stream",
     "text": []
    },
    {
     "name": "stdout",
     "output_type": "stream",
     "text": [
      "\r"
     ]
    }
   ],
   "source": [
    "# visualizing the Accuracy and Loss\n",
    "plot_graph(\"accuracy\",epoch_acc_list, val_epoch_acc_list)\n",
    "plot_graph(\"loss\",epoch_loss_list, val_epoch_loss_list)"
   ]
  },
  {
   "cell_type": "code",
   "execution_count": 19,
   "id": "2d339a99-856a-42ed-929b-2a131e5db5e8",
   "metadata": {},
   "outputs": [
    {
     "name": "stdout",
     "output_type": "stream",
     "text": [
      "torch.Size([1175, 2]) torch.Size([1175, 2002])\n",
      "\r"
     ]
    }
   ],
   "source": [
    "# Converting testing elements to torch tensor from array\n",
    "test_x = torch.Tensor(test_x)\n",
    "y_pred = model(test_x.to(device)) \n",
    "print(y_pred.shape, test_x.shape)"
   ]
  },
  {
   "cell_type": "code",
   "execution_count": 20,
   "id": "90e1c67f-e2e0-4143-9b4b-97933980f849",
   "metadata": {},
   "outputs": [
    {
     "name": "stdout",
     "output_type": "stream",
     "text": []
    },
    {
     "name": "stdout",
     "output_type": "stream",
     "text": []
    },
    {
     "name": "stdout",
     "output_type": "stream",
     "text": [
      "\r"
     ]
    }
   ],
   "source": [
    "def multilabel_predict(x):\n",
    "  '''Function to get predicted labels for testing data'''\n",
    "  x = tfidfvectorizer.transform([x]).toarray()\n",
    "  x = torch.tensor(x, dtype=torch.float64)\n",
    "  pred = model(x_in=x.float().to(device))\n",
    "  y_1 = (pred).to('cpu').detach().numpy()\n",
    "  ind=(y_1).argmax(axis = 1)\n",
    "  y_dim = y_1.shape[1]\n",
    "  l = [0 for i in range(y_dim)]\n",
    "  for i in range(y_dim):\n",
    "      if i==ind:\n",
    "          l[i] = 1\n",
    "  #y_1 = np.array(l)\n",
    "  #print(y_1)\n",
    "  y_1 = mlb.inverse_transform(np.array(l).reshape(1,2))\n",
    "  return y_1"
   ]
  },
  {
   "cell_type": "code",
   "execution_count": 21,
   "id": "e04866c7-618a-413c-a18a-353f546feb04",
   "metadata": {},
   "outputs": [
    {
     "name": "stdout",
     "output_type": "stream",
     "text": [
      "1958\n",
      "\r"
     ]
    }
   ],
   "source": [
    "# Getting relations for plotting Confusion Matrix\n",
    "test_utterences= test_X\n",
    "predicted_relations=[]\n",
    "for utterence in test_utterences:\n",
    "  test_pred=multilabel_predict(utterence)\n",
    "  predicted_relations.append(test_pred[0])\n",
    "print(len(predicted_relations))"
   ]
  },
  {
   "cell_type": "code",
   "execution_count": 23,
   "id": "4141ac0b-5487-4007-a46d-7e796da876b9",
   "metadata": {},
   "outputs": [
    {
     "data": {
      "image/png": "[encoded data removed]",
      "text/plain": [
       "<Figure size 576x576 with 2 Axes>"
      ]
     },
     "metadata": {
      "image/png": {
       "height": 479,
       "width": 517
      },
      "needs_background": "light"
     },
     "output_type": "display_data"
    },
    {
     "name": "stdout",
     "output_type": "stream",
     "text": []
    },
    {
     "name": "stdout",
     "output_type": "stream",
     "text": []
    },
    {
     "name": "stdout",
     "output_type": "stream",
     "text": [
      "\r"
     ]
    }
   ],
   "source": [
    "# Plotting Confusion Matrix\n",
    "y_true = [x for x in test_Y]\n",
    "y_pred = [x for x in predicted_relations]\n",
    "skplt.metrics.plot_confusion_matrix(y_true, y_pred, figsize=(8,8),x_tick_rotation=90)\n",
    "plt.savefig(\"./result/task_a_confusion_matrix.png\")"
   ]
  },
  {
   "cell_type": "code",
   "execution_count": 24,
   "id": "3e7b8607-2bdb-4d1e-ac6b-d37bf934193e",
   "metadata": {},
   "outputs": [
    {
     "name": "stdout",
     "output_type": "stream",
     "text": [
      "              precision    recall  f1-score   support\n",
      "\n",
      "  not sexist       0.67      0.47      0.55       500\n",
      "      sexist       0.83      0.92      0.88      1458\n",
      "\n",
      "    accuracy                           0.81      1958\n",
      "   macro avg       0.75      0.70      0.71      1958\n",
      "weighted avg       0.79      0.81      0.79      1958\n",
      "\n",
      "\r"
     ]
    }
   ],
   "source": [
    "# Evaluation Report\n",
    "print(classification_report(y_true,y_pred))\n",
    "clsf_report = pd.DataFrame(classification_report(y_true,y_pred, output_dict=True)).transpose()\n",
    "clsf_report.to_csv(\"./result/task_a_classification_report.csv\", index= True)"
   ]
  },
  {
   "cell_type": "code",
   "execution_count": 25,
   "id": "1537a6c0-bf82-489d-9dad-18522e55b08d",
   "metadata": {},
   "outputs": [
    {
     "data": {
      "text/html": [
       "<div>\n",
       "<style scoped>\n",
       "    .dataframe tbody tr th:only-of-type {\n",
       "        vertical-align: middle;\n",
       "    }\n",
       "\n",
       "    .dataframe tbody tr th {\n",
       "        vertical-align: top;\n",
       "    }\n",
       "\n",
       "    .dataframe thead th {\n",
       "        text-align: right;\n",
       "    }\n",
       "</style>\n",
       "<table border=\"1\" class=\"dataframe\">\n",
       "  <thead>\n",
       "    <tr style=\"text-align: right;\">\n",
       "      <th></th>\n",
       "      <th>actual</th>\n",
       "      <th>predicted</th>\n",
       "    </tr>\n",
       "  </thead>\n",
       "  <tbody>\n",
       "    <tr>\n",
       "      <th>0</th>\n",
       "      <td>sexist</td>\n",
       "      <td>(sexist,)</td>\n",
       "    </tr>\n",
       "    <tr>\n",
       "      <th>1</th>\n",
       "      <td>sexist</td>\n",
       "      <td>(sexist,)</td>\n",
       "    </tr>\n",
       "    <tr>\n",
       "      <th>2</th>\n",
       "      <td>sexist</td>\n",
       "      <td>(sexist,)</td>\n",
       "    </tr>\n",
       "    <tr>\n",
       "      <th>3</th>\n",
       "      <td>sexist</td>\n",
       "      <td>(sexist,)</td>\n",
       "    </tr>\n",
       "    <tr>\n",
       "      <th>4</th>\n",
       "      <td>sexist</td>\n",
       "      <td>(sexist,)</td>\n",
       "    </tr>\n",
       "  </tbody>\n",
       "</table>\n",
       "</div>"
      ],
      "text/plain": [
       "   actual  predicted\n",
       "0  sexist  (sexist,)\n",
       "1  sexist  (sexist,)\n",
       "2  sexist  (sexist,)\n",
       "3  sexist  (sexist,)\n",
       "4  sexist  (sexist,)"
      ]
     },
     "execution_count": 25,
     "metadata": {},
     "output_type": "execute_result"
    },
    {
     "name": "stdout",
     "output_type": "stream",
     "text": []
    },
    {
     "name": "stdout",
     "output_type": "stream",
     "text": []
    },
    {
     "name": "stdout",
     "output_type": "stream",
     "text": [
      "\r"
     ]
    }
   ],
   "source": [
    "dict_data = {'actual': y_true, 'predicted': y_pred} ## see which variables to take from accuracy_score line in previous code block\n",
    "df_markov = pd.DataFrame(data=dict_data)\n",
    "# df_markov.replace({'not_sexist': 0, 'sexist': 1}, inplace=True)\n",
    "df_markov.to_csv(\"recording_model2.csv\")\n",
    "df_markov.head()\n",
    "\n",
    "# now just map the not sexist with 0 and sexist with 1"
   ]
  },
  {
   "cell_type": "code",
   "execution_count": 26,
   "id": "db0a1927-ca45-4034-a07c-699b09b1703d",
   "metadata": {},
   "outputs": [
    {
     "name": "stdout",
     "output_type": "stream",
     "text": []
    },
    {
     "name": "stdout",
     "output_type": "stream",
     "text": []
    },
    {
     "name": "stdout",
     "output_type": "stream",
     "text": [
      "\r"
     ]
    }
   ],
   "source": [
    "torch.save(model.state_dict(), \"trained_model2.pth\")"
   ]
  },
  {
   "cell_type": "code",
   "execution_count": 28,
   "id": "a3dc9d20-8334-4d99-a8d3-88564102aecc",
   "metadata": {},
   "outputs": [
    {
     "data": {
      "text/plain": [
       "<All keys matched successfully>"
      ]
     },
     "execution_count": 28,
     "metadata": {},
     "output_type": "execute_result"
    },
    {
     "name": "stdout",
     "output_type": "stream",
     "text": []
    },
    {
     "name": "stdout",
     "output_type": "stream",
     "text": []
    },
    {
     "name": "stdout",
     "output_type": "stream",
     "text": [
      "\r"
     ]
    }
   ],
   "source": [
    "model.load_state_dict(torch.load('trained_model2.pth'))"
   ]
  },
  {
   "cell_type": "code",
   "execution_count": 32,
   "id": "53d50a75-f8a8-4a06-8563-64431f1677c4",
   "metadata": {},
   "outputs": [
    {
     "name": "stdout",
     "output_type": "stream",
     "text": []
    },
    {
     "name": "stdout",
     "output_type": "stream",
     "text": []
    },
    {
     "name": "stdout",
     "output_type": "stream",
     "text": [
      "\r"
     ]
    }
   ],
   "source": [
    "def predict_sexism(x):\n",
    "  x = tfidfvectorizer.transform([x]).toarray()\n",
    "  x = torch.tensor(x, dtype=torch.float64)\n",
    "  model.load_state_dict(torch.load('trained_model2.pth'))\n",
    "  pred = model(x_in=x.float().to(device))\n",
    "  y_1 = (pred).to('cpu').detach().numpy()\n",
    "  ind=(y_1).argmax(axis = 1)\n",
    "  y_dim = y_1.shape[1]\n",
    "  l = [0 for i in range(y_dim)]\n",
    "  for i in range(y_dim):\n",
    "      if i==ind:\n",
    "          l[i] = 1\n",
    "  y_1 = mlb.inverse_transform(np.array(l).reshape(1,2))\n",
    "  return y_1"
   ]
  },
  {
   "cell_type": "code",
   "execution_count": 45,
   "id": "bc9e469c-07d9-4494-b98a-d85a5900f8be",
   "metadata": {},
   "outputs": [
    {
     "name": "stdout",
     "output_type": "stream",
     "text": []
    },
    {
     "name": "stdout",
     "output_type": "stream",
     "text": []
    },
    {
     "name": "stdout",
     "output_type": "stream",
     "text": [
      "\r"
     ]
    }
   ],
   "source": [
    "t1 = \"women are weak and inferior\""
   ]
  },
  {
   "cell_type": "code",
   "execution_count": 46,
   "id": "edcd2af1-34d4-4871-87ee-d31605624fe7",
   "metadata": {},
   "outputs": [
    {
     "name": "stdout",
     "output_type": "stream",
     "text": [
      "[('sexist',)]\n",
      "\r"
     ]
    }
   ],
   "source": [
    "test_pred=predict_sexism(t1)\n",
    "print(test_pred)"
   ]
  },
  {
   "cell_type": "code",
   "execution_count": null,
   "id": "5141081d-7179-4c45-b7f8-fc591924bba2",
   "metadata": {},
   "outputs": [],
   "source": []
  },
  {
   "cell_type": "code",
   "execution_count": 47,
   "id": "ec4f8a56-1a66-402d-b618-5b0075fb32bb",
   "metadata": {},
   "outputs": [
    {
     "data": {
      "text/plain": [
       "<markov.api.recording.evaluations.evaluation_recorder.EvaluationRecorder at 0x7f1133b7d880>"
      ]
     },
     "execution_count": 47,
     "metadata": {},
     "output_type": "execute_result"
    },
    {
     "name": "stdout",
     "output_type": "stream",
     "text": []
    },
    {
     "name": "stdout",
     "output_type": "stream",
     "text": []
    },
    {
     "name": "stdout",
     "output_type": "stream",
     "text": [
      "\r"
     ]
    }
   ],
   "source": [
    "from markov import EvaluationRecorder\n",
    "evaluation_recorder = EvaluationRecorder(\n",
    "    name=f\"Evaluating model {recorder.name}\",\n",
    "    notes=f\"Testing evaluation with MarkovML\",\n",
    "    model_id=recorder.model_id\n",
    ")\n",
    "\n",
    "evaluation_recorder.register()"
   ]
  },
  {
   "cell_type": "code",
   "execution_count": 49,
   "id": "c727e7d6-885c-4ca6-b18c-d430c770a0cd",
   "metadata": {},
   "outputs": [
    {
     "name": "stderr",
     "output_type": "stream",
     "text": [
      "Upload Progress : 100%|██████████| 2/2 [00:00<00:00,  2.07batch/s]\n"
     ]
    },
    {
     "name": "stdout",
     "output_type": "stream",
     "text": [
      "EvaluationRecordingFinishResponse(count=1958, recording_id='3GVQwTeVFyJHRpWzGWEZUcw', return_code='OK', message='', run_id='Ffok7XYPo93kaFSP4h7')\n",
      "\r"
     ]
    }
   ],
   "source": [
    "import os\n",
    "import uuid\n",
    "\n",
    "from markov.api.schemas.model_recording import SingleTagInferenceRecord\n",
    "\n",
    "# create and register the recorder\n",
    "filepath = os.path.join('recording_model2.csv')\n",
    "with open(filepath) as f:\n",
    "    for line in f:\n",
    "        # Assign a unique identifier for individual records\n",
    "        record_id = str(uuid.uuid4())\n",
    "        tokens = line.strip('\\n').split(',')\n",
    "        record = SingleTagInferenceRecord(\n",
    "            urid=record_id,\n",
    "            inferred=tokens[2],\n",
    "            actual=tokens[1],\n",
    "            score=float(tokens[0])\n",
    "        )\n",
    "        evaluation_recorder.add_record(record)\n",
    "outcome = evaluation_recorder.finish()\n",
    "print(outcome)"
   ]
  },
  {
   "cell_type": "code",
   "execution_count": null,
   "id": "9429774d-1eb2-437e-b61e-ffa767b506ad",
   "metadata": {},
   "outputs": [],
   "source": []
  }
 ],
 "metadata": {
  "kernelspec": {
   "display_name": "Python 3 (ipykernel)",
   "language": "python",
   "name": "python3"
  },
  "language_info": {
   "codemirror_mode": {
    "name": "ipython",
    "version": 3
   },
   "file_extension": ".py",
   "mimetype": "text/x-python",
   "name": "python",
   "nbconvert_exporter": "python",
   "pygments_lexer": "ipython3",
   "version": "3.9.7"
  }
 },
 "nbformat": 4,
 "nbformat_minor": 5
}
