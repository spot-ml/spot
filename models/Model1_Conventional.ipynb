{
 "cells": [
  {
   "cell_type": "code",
   "execution_count": 4,
   "id": "01baa4de-2e02-464a-a273-ded00286c3f4",
   "metadata": {},
   "outputs": [
    {
     "name": "stderr",
     "output_type": "stream",
     "text": [
      "[nltk_data] Downloading package stopwords to /home/jovyan/nltk_data...\n",
      "[nltk_data]   Package stopwords is already up-to-date!\n",
      "[nltk_data] Downloading package wordnet to /home/jovyan/nltk_data...\n",
      "[nltk_data]   Package wordnet is already up-to-date!\n"
     ]
    }
   ],
   "source": [
    "import time\n",
    "import os\n",
    "import markov\n",
    "import numpy as np\n",
    "import pandas as pd\n",
    "import re\n",
    "import matplotlib.pyplot as plt\n",
    "import sys\n",
    "util_path = './utils'\n",
    "sys.path.insert(0, util_path)\n",
    "import preprocessing as pp\n",
    "# from markov.api.model import ModelRecorder\n",
    "# from markov.api.recording.experiments.integrations.keras.keras_auto_record import auto_record\n",
    "# from markov.api.recording.integrations.keras.keras_auto_record import auto_record\n",
    "# from markov.api.schemas.model_recording import ModelRecordingConfig, SingleTagInferenceRecord\n",
    "import pandas as pd\n",
    "from sklearn.metrics import classification_report, accuracy_score, confusion_matrix, f1_score, log_loss, recall_score, precision_score \n",
    "from sklearn.feature_extraction.text import TfidfVectorizer\n",
    "from sklearn.model_selection import train_test_split\n",
    "from sklearn.linear_model import LogisticRegression\n",
    "from sklearn import tree\n",
    "from sklearn.ensemble import RandomForestClassifier\n",
    "import xgboost as xgb"
   ]
  },
  {
   "cell_type": "code",
   "execution_count": 5,
   "id": "b43bc611-f240-44cb-a57d-59c2d0d8e17d",
   "metadata": {},
   "outputs": [
    {
     "data": {
      "text/plain": [
       "28768"
      ]
     },
     "execution_count": 5,
     "metadata": {},
     "output_type": "execute_result"
    }
   ],
   "source": [
    "filepath = os.path.join(os.path.curdir, \"Datasets\", \"master_dataset.csv\")\n",
    "df = pd.read_csv(filepath)\n",
    "df.head()\n",
    "len(df)"
   ]
  },
  {
   "cell_type": "code",
   "execution_count": 7,
   "id": "3d979b30-83b8-4079-85b6-3a95c3979c2e",
   "metadata": {},
   "outputs": [
    {
     "data": {
      "text/html": [
       "<div>\n",
       "<style scoped>\n",
       "    .dataframe tbody tr th:only-of-type {\n",
       "        vertical-align: middle;\n",
       "    }\n",
       "\n",
       "    .dataframe tbody tr th {\n",
       "        vertical-align: top;\n",
       "    }\n",
       "\n",
       "    .dataframe thead th {\n",
       "        text-align: right;\n",
       "    }\n",
       "</style>\n",
       "<table border=\"1\" class=\"dataframe\">\n",
       "  <thead>\n",
       "    <tr style=\"text-align: right;\">\n",
       "      <th></th>\n",
       "      <th>text</th>\n",
       "      <th>label_sexist</th>\n",
       "      <th>processed_text</th>\n",
       "    </tr>\n",
       "  </thead>\n",
       "  <tbody>\n",
       "    <tr>\n",
       "      <th>0</th>\n",
       "      <td>Damn, this writing was pretty chaotic</td>\n",
       "      <td>not sexist</td>\n",
       "      <td>damn writing pretty chaotic</td>\n",
       "    </tr>\n",
       "    <tr>\n",
       "      <th>1</th>\n",
       "      <td>Yeah, and apparently a bunch of misogynistic v...</td>\n",
       "      <td>not sexist</td>\n",
       "      <td>yeah apparently bunch misogynistic virgin one ...</td>\n",
       "    </tr>\n",
       "    <tr>\n",
       "      <th>2</th>\n",
       "      <td>How the FUCK is this woman still an MP!!!???</td>\n",
       "      <td>not sexist</td>\n",
       "      <td>fuck woman still mp</td>\n",
       "    </tr>\n",
       "    <tr>\n",
       "      <th>3</th>\n",
       "      <td>Understand. Know you're right. At same time I ...</td>\n",
       "      <td>not sexist</td>\n",
       "      <td>understand know youre right time know isnt eno...</td>\n",
       "    </tr>\n",
       "    <tr>\n",
       "      <th>4</th>\n",
       "      <td>Surprized they didn't stop and rape some women</td>\n",
       "      <td>not sexist</td>\n",
       "      <td>surprized didnt stop rape woman</td>\n",
       "    </tr>\n",
       "    <tr>\n",
       "      <th>5</th>\n",
       "      <td>yeah but in order to keep the benefit i have t...</td>\n",
       "      <td>not sexist</td>\n",
       "      <td>yeah order keep benefit good tommorow told cou...</td>\n",
       "    </tr>\n",
       "    <tr>\n",
       "      <th>6</th>\n",
       "      <td>Hahaha I just wish they would live their truth...</td>\n",
       "      <td>not sexist</td>\n",
       "      <td>hahaha wish would live truth cut shit wouldnt ...</td>\n",
       "    </tr>\n",
       "    <tr>\n",
       "      <th>7</th>\n",
       "      <td>head mod said she talked to him after he made ...</td>\n",
       "      <td>not sexist</td>\n",
       "      <td>head mod said talked made post wont tell anyon...</td>\n",
       "    </tr>\n",
       "    <tr>\n",
       "      <th>8</th>\n",
       "      <td>just the inside of your wallet: cash, bank car...</td>\n",
       "      <td>sexist</td>\n",
       "      <td>inside wallet cash bank card credit card debit...</td>\n",
       "    </tr>\n",
       "    <tr>\n",
       "      <th>9</th>\n",
       "      <td>We most definitely did. I didn’t go too much i...</td>\n",
       "      <td>not sexist</td>\n",
       "      <td>definitely didnt go much detail happened put s...</td>\n",
       "    </tr>\n",
       "  </tbody>\n",
       "</table>\n",
       "</div>"
      ],
      "text/plain": [
       "                                                text label_sexist  \\\n",
       "0              Damn, this writing was pretty chaotic   not sexist   \n",
       "1  Yeah, and apparently a bunch of misogynistic v...   not sexist   \n",
       "2       How the FUCK is this woman still an MP!!!???   not sexist   \n",
       "3  Understand. Know you're right. At same time I ...   not sexist   \n",
       "4     Surprized they didn't stop and rape some women   not sexist   \n",
       "5  yeah but in order to keep the benefit i have t...   not sexist   \n",
       "6  Hahaha I just wish they would live their truth...   not sexist   \n",
       "7  head mod said she talked to him after he made ...   not sexist   \n",
       "8  just the inside of your wallet: cash, bank car...       sexist   \n",
       "9  We most definitely did. I didn’t go too much i...   not sexist   \n",
       "\n",
       "                                      processed_text  \n",
       "0                        damn writing pretty chaotic  \n",
       "1  yeah apparently bunch misogynistic virgin one ...  \n",
       "2                                fuck woman still mp  \n",
       "3  understand know youre right time know isnt eno...  \n",
       "4                    surprized didnt stop rape woman  \n",
       "5  yeah order keep benefit good tommorow told cou...  \n",
       "6  hahaha wish would live truth cut shit wouldnt ...  \n",
       "7  head mod said talked made post wont tell anyon...  \n",
       "8  inside wallet cash bank card credit card debit...  \n",
       "9  definitely didnt go much detail happened put s...  "
      ]
     },
     "execution_count": 7,
     "metadata": {},
     "output_type": "execute_result"
    }
   ],
   "source": [
    "df[\"processed_text\"] = df['text'].apply(pp.process_text, model=1)\n",
    "df.head(10)"
   ]
  },
  {
   "cell_type": "code",
   "execution_count": 8,
   "id": "e8c3ec8a-e840-4d5d-b0ba-7bdfc5629177",
   "metadata": {},
   "outputs": [
    {
     "name": "stdout",
     "output_type": "stream",
     "text": [
      "class_sexist: (5831, 3)\n",
      "class_notsexist: (22937, 3)\n"
     ]
    }
   ],
   "source": [
    "class_notsexist, class_sexist = df['label_sexist'].value_counts()\n",
    "class_notsexist, class_sexist\n",
    "# # Separate class\n",
    "class_s = df[df['label_sexist'] == \"sexist\"]\n",
    "class_ns = df[df['label_sexist'] == \"not sexist\"]\n",
    "print('class_sexist:', class_s.shape)\n",
    "print('class_notsexist:', class_ns.shape)"
   ]
  },
  {
   "cell_type": "code",
   "execution_count": 9,
   "id": "aa5a2031-f6fc-4a71-b504-16afad00919e",
   "metadata": {},
   "outputs": [
    {
     "data": {
      "text/plain": [
       "<AxesSubplot:title={'center':'count (target)'}>"
      ]
     },
     "execution_count": 9,
     "metadata": {},
     "output_type": "execute_result"
    },
    {
     "data": {
      "image/png": "[encoded data removed]",
      "text/plain": [
       "<Figure size 432x288 with 1 Axes>"
      ]
     },
     "metadata": {
      "needs_background": "light"
     },
     "output_type": "display_data"
    }
   ],
   "source": [
    "class_ns_under = class_ns.sample(class_sexist+1000)\n",
    "df_under = pd.concat([class_ns_under, class_s], axis=0)\n",
    "df_under['label_sexist'].value_counts().plot(kind='bar', title='count (target)')"
   ]
  },
  {
   "cell_type": "code",
   "execution_count": 10,
   "id": "15db0a54-4089-45f5-b54e-382513c5d55d",
   "metadata": {},
   "outputs": [],
   "source": [
    "tfidf = TfidfVectorizer()\n",
    "tfidf_text_vec = tfidf.fit_transform(df_under.processed_text)"
   ]
  },
  {
   "cell_type": "code",
   "execution_count": 12,
   "id": "33d65011-5465-4644-a198-f6ff118b8c49",
   "metadata": {},
   "outputs": [],
   "source": [
    "x_train_a, x_test_a, y_train_a, y_test_a = train_test_split(tfidf_text_vec, df_under['label_sexist'], test_size=0.2, train_size=0.8, random_state=5, shuffle=True)"
   ]
  },
  {
   "cell_type": "code",
   "execution_count": null,
   "id": "9ae2ac03-0c18-4c6f-9977-ab1c344a3a1f",
   "metadata": {},
   "outputs": [],
   "source": [
    "# from markov import Project, ProjectScope\n",
    "\n",
    "# # Create a new project\n",
    "# my_project = Project(\n",
    "#     # project name\n",
    "#     name=\"Final Project AI4SG\",\n",
    "#     # project description (optional)\n",
    "#     description=\"Visualizing the model-1 and model-2\",\n",
    "#     # project visibility (optional; public by default)\n",
    "#     project_scope=ProjectScope.PUBLIC,\n",
    "# )"
   ]
  },
  {
   "cell_type": "code",
   "execution_count": 9,
   "id": "470c0702-683f-4494-998a-d6577c91d09c",
   "metadata": {},
   "outputs": [
    {
     "name": "stdout",
     "output_type": "stream",
     "text": [
      "✔ Creating Model Model creation successful!\n",
      "✔ Registering Hyper Parameter Recorder with Markov Backend. Recorder successfully registered.\n",
      "ℹ You can view the experiment at \u001b\\https://app.markovml.com/wsp-27m23rbvum/proj/3GEEgreNQVvGxs/experiments/hp-9VZQU7kpze6FoUJL77ciKwF\u001b]8;;\u001b\\\n"
     ]
    }
   ],
   "source": [
    "import markov\n",
    "\n",
    "hyper_parameters = {\"random_state\":0,\"n_estimators\":10,\"max_iter\":100}\n",
    "lrm = LogisticRegression(penalty='l2', random_state=0,max_iter=100,class_weight='balanced')\n",
    "\n",
    "\n",
    "\n",
    "# Use the ExperimentRecorder constuctor provided by the MarkovML SDK\n",
    "# to create a new experiment recorder\n",
    "recorder_lr = markov.ExperimentRecorder(\n",
    "    # Name of the experiment recording\n",
    "    name=\"Model 1 Logistic Regression experiment\",\n",
    "    # Project associated with the experiment\n",
    "    # project_id=my_project.project_id,\n",
    "    project_id = \"3GEEgreNQVvGxs\",\n",
    "    # Hyper-parameters used for model training\n",
    "    hyper_parameters = {\"random_state\":0,\"n_estimators\":10,\"max_iter\":100},\n",
    "    # Additional notes (optional)\n",
    "    model_class=markov.ModelClass.TAGGING,\n",
    "    notes=\"This is a experiment describing the model-1 Logistic Regression\"\n",
    ")"
   ]
  },
  {
   "cell_type": "code",
   "execution_count": 12,
   "id": "7b3f403e-613b-445f-b85a-e53accfc3b18",
   "metadata": {},
   "outputs": [
    {
     "name": "stdout",
     "output_type": "stream",
     "text": [
      "ℹ Starting recorder to track training data on markov backend.\n",
      "⚠ Please wait while we send the remaining data to the markov backend... Could not send all QUEUE_MESSAGE_TYPEs to the markov server!\n",
      "Accuracy: 78.72%\n",
      "              precision    recall  f1-score   support\n",
      "\n",
      "  not sexist       0.81      0.80      0.81      1401\n",
      "      sexist       0.76      0.77      0.76      1132\n",
      "\n",
      "    accuracy                           0.79      2533\n",
      "   macro avg       0.78      0.79      0.79      2533\n",
      "weighted avg       0.79      0.79      0.79      2533\n",
      "\n"
     ]
    }
   ],
   "source": [
    "with recorder_lr:\n",
    "    lrm = lrm.fit(x_train_a, y_train_a,sample_weight=np.full(len(y_train_a),1))\n",
    "    lrm_pred = lrm.predict(x_test_a)\n",
    "    acc = accuracy_score(lrm_pred, y_test_a)\n",
    "    recorder_lr.add_record({\"accuracy\": acc})\n",
    "    cr = classification_report(y_test_a, lrm_pred)\n",
    "    recorder_lr.add_record({\"classification_report\": cr})\n",
    "    cm = confusion_matrix(lrm_pred, y_test_a)\n",
    "    recorder_lr.add_record({\"confusion_matrix\": cm})\n",
    "print(\"Accuracy:\",str('{:04.2f}'.format(acc*100))+'%')\n",
    "print(classification_report(y_test_a, lrm_pred))\n",
    "clsf_report = pd.DataFrame(classification_report(y_test_a, lrm_pred, output_dict=True)).transpose()\n",
    "clsf_report.to_csv(os.path.join(os.path.curdir, \"result/model1\", \"task_a_cls_report_logistic_reg.csv\"), index= True)"
   ]
  },
  {
   "cell_type": "code",
   "execution_count": 13,
   "id": "244348f1-42e3-4ab0-aec1-70bac4555561",
   "metadata": {},
   "outputs": [
    {
     "name": "stdout",
     "output_type": "stream",
     "text": [
      "0.7872088432688512\n"
     ]
    }
   ],
   "source": [
    "import pickle\n",
    "\n",
    "# save the model\n",
    "filename = './result/model1/Logistic Regression/logistic_regression_model.sav'\n",
    "pickle.dump(lrm, open(filename, 'wb'))\n",
    "\n",
    "# load the model\n",
    "loaded_model = pickle.load(open(filename, 'rb'))\n",
    "result = loaded_model.score(x_test_a, y_test_a)\n",
    "print(result)"
   ]
  },
  {
   "cell_type": "code",
   "execution_count": 14,
   "id": "86f224f6-2dee-4dfb-adc1-791e99014bfc",
   "metadata": {},
   "outputs": [
    {
     "name": "stdout",
     "output_type": "stream",
     "text": [
      "sexist\n"
     ]
    }
   ],
   "source": [
    "def predict_sexism(text, model, tfidf, lemmatizer, stop_words):\n",
    "    text = process_text(text, lemmatizer, stop_words)\n",
    "    text_vec = tfidf.transform([text])\n",
    "    prediction = model.predict(text_vec)\n",
    "    return prediction[0]\n",
    "\n",
    "# test the function\n",
    "example_text = \"I was told no woman who had children under the age of 6 had any business being outside the home.\"\n",
    "pred = predict_sexism(example_text, loaded_model, tfidf, lemmatizer, stop_words)\n",
    "print(pred) # should print 'not sexist' or 'sexist'\n"
   ]
  },
  {
   "cell_type": "code",
   "execution_count": 15,
   "id": "c31d62fe-31d9-467e-9fc8-516e072c61d4",
   "metadata": {},
   "outputs": [
    {
     "data": {
      "text/html": [
       "<div>\n",
       "<style scoped>\n",
       "    .dataframe tbody tr th:only-of-type {\n",
       "        vertical-align: middle;\n",
       "    }\n",
       "\n",
       "    .dataframe tbody tr th {\n",
       "        vertical-align: top;\n",
       "    }\n",
       "\n",
       "    .dataframe thead th {\n",
       "        text-align: right;\n",
       "    }\n",
       "</style>\n",
       "<table border=\"1\" class=\"dataframe\">\n",
       "  <thead>\n",
       "    <tr style=\"text-align: right;\">\n",
       "      <th></th>\n",
       "      <th>actual</th>\n",
       "      <th>predicted</th>\n",
       "    </tr>\n",
       "  </thead>\n",
       "  <tbody>\n",
       "    <tr>\n",
       "      <th>18043</th>\n",
       "      <td>not sexist</td>\n",
       "      <td>sexist</td>\n",
       "    </tr>\n",
       "    <tr>\n",
       "      <th>2332</th>\n",
       "      <td>not sexist</td>\n",
       "      <td>sexist</td>\n",
       "    </tr>\n",
       "    <tr>\n",
       "      <th>23724</th>\n",
       "      <td>sexist</td>\n",
       "      <td>sexist</td>\n",
       "    </tr>\n",
       "    <tr>\n",
       "      <th>17758</th>\n",
       "      <td>sexist</td>\n",
       "      <td>not sexist</td>\n",
       "    </tr>\n",
       "    <tr>\n",
       "      <th>1476</th>\n",
       "      <td>not sexist</td>\n",
       "      <td>sexist</td>\n",
       "    </tr>\n",
       "  </tbody>\n",
       "</table>\n",
       "</div>"
      ],
      "text/plain": [
       "           actual   predicted\n",
       "18043  not sexist      sexist\n",
       "2332   not sexist      sexist\n",
       "23724      sexist      sexist\n",
       "17758      sexist  not sexist\n",
       "1476   not sexist      sexist"
      ]
     },
     "execution_count": 15,
     "metadata": {},
     "output_type": "execute_result"
    },
    {
     "name": "stdout",
     "output_type": "stream",
     "text": []
    }
   ],
   "source": [
    "dict_data = {'actual': y_test_a, 'predicted': lrm_pred} ## see which variables to take from accuracy_score line in previous code block\n",
    "df_markov = pd.DataFrame(data=dict_data)\n",
    "df_markov.to_csv(\"./result/model1/Logistic Regression/recording_lr.csv\")\n",
    "df_markov.head()\n",
    "\n",
    "# now just map the not sexist with 0 and sexist with 1"
   ]
  },
  {
   "cell_type": "code",
   "execution_count": 16,
   "id": "b8f44244-e8d9-4055-8137-8b41cb701d44",
   "metadata": {},
   "outputs": [
    {
     "data": {
      "text/plain": [
       "<markov.api.recording.evaluations.evaluation_recorder.EvaluationRecorder at 0x7f609c3e7d00>"
      ]
     },
     "execution_count": 16,
     "metadata": {},
     "output_type": "execute_result"
    },
    {
     "name": "stdout",
     "output_type": "stream",
     "text": []
    }
   ],
   "source": [
    "from markov import EvaluationRecorder\n",
    "evaluation_recorder_lr = EvaluationRecorder(\n",
    "    name=f\"Evaluating {recorder_lr.name}\",\n",
    "    notes=f\"Evaluation of model1 using MarkovML\",\n",
    "    model_id=recorder_lr.model_id\n",
    ")\n",
    "\n",
    "evaluation_recorder_lr.register()"
   ]
  },
  {
   "cell_type": "code",
   "execution_count": 17,
   "id": "74c11649-8668-4455-be49-3e7a32cc3ac4",
   "metadata": {},
   "outputs": [
    {
     "name": "stderr",
     "output_type": "stream",
     "text": [
      "Upload Progress : 100%|██████████| 3/3 [00:00<00:00,  3.54batch/s]\n"
     ]
    },
    {
     "name": "stdout",
     "output_type": "stream",
     "text": [
      "EvaluationRecordingFinishResponse(count=2533, recording_id='4iTwUc4aMV3se68yG5so7wN', return_code='OK', message='', run_id='wWHwNVNYfpeAzZwYvMh')\n"
     ]
    }
   ],
   "source": [
    "import os\n",
    "import uuid\n",
    "\n",
    "from markov.api.schemas.model_recording import SingleTagInferenceRecord\n",
    "\n",
    "# create and register the recorder\n",
    "filepath = os.path.join('./result/model1/Logistic Regression/recording_lr.csv')\n",
    "with open(filepath) as f:\n",
    "    for line in f:\n",
    "        # Assign a unique identifier for individual records\n",
    "        record_id = str(uuid.uuid4())\n",
    "        tokens = line.strip('\\n').split(',')\n",
    "        record = SingleTagInferenceRecord(\n",
    "            urid=record_id,\n",
    "            inferred=tokens[2],\n",
    "            actual=tokens[1],\n",
    "            score=float(tokens[0])\n",
    "        )\n",
    "        evaluation_recorder_lr.add_record(record)\n",
    "outcome = evaluation_recorder_lr.finish()\n",
    "print(outcome)"
   ]
  },
  {
   "cell_type": "code",
   "execution_count": 18,
   "id": "9edc6858-4660-4015-9fdd-09abe69b1b2b",
   "metadata": {},
   "outputs": [
    {
     "name": "stdout",
     "output_type": "stream",
     "text": []
    }
   ],
   "source": [
    "# Decision Tree"
   ]
  },
  {
   "cell_type": "code",
   "execution_count": 19,
   "id": "c79d03f2-6786-444f-b0ea-78c352df6352",
   "metadata": {},
   "outputs": [
    {
     "name": "stdout",
     "output_type": "stream",
     "text": [
      "✔ Creating Model Model creation successful!\n",
      "✔ Registering Hyper Parameter Recorder with Markov Backend. Recorder successfully registered.\n",
      "ℹ You can view the experiment at \u001b\\https://app.markovml.com/wsp-27m23rbvum/proj/3GEEgreNQVvGxs/experiments/hp-kijfgCCDSi3qJCu4hrtTpbf\u001b]8;;\u001b\\\n"
     ]
    }
   ],
   "source": [
    "import markov\n",
    "\n",
    "hyper_parameters = {\"max_features\":20}\n",
    "dt_clf = tree.DecisionTreeClassifier(criterion='entropy', max_features=20)\n",
    "\n",
    "\n",
    "# Use the ExperimentRecorder constuctor provided by the MarkovML SDK\n",
    "# to create a new experiment recorder\n",
    "recorder_dt = markov.ExperimentRecorder(\n",
    "    # Name of the experiment recording\n",
    "   name=\"Model 1 Decision Tree experiment\",\n",
    "    # Project associated with the experiment\n",
    "    # project_id=my_project.project_id,\n",
    "    project_id = \"3GEEgreNQVvGxs\",\n",
    "    # Hyper-parameters used for model training\n",
    "    hyper_parameters = {\"max_features\":20},\n",
    "    # Additional notes (optional)\n",
    "    model_class=markov.ModelClass.TAGGING,\n",
    "    notes=\"This is a experiment describing the model-1 Decision Tree\"\n",
    ")\n",
    "\n",
    "\n"
   ]
  },
  {
   "cell_type": "code",
   "execution_count": 20,
   "id": "48bde901-3b3c-4222-8003-4c1256853b0b",
   "metadata": {},
   "outputs": [
    {
     "name": "stdout",
     "output_type": "stream",
     "text": [
      "ℹ Starting recorder to track training data on markov backend.\n",
      "⚠ Please wait while we send the remaining data to the markov backend... Could not send all QUEUE_MESSAGE_TYPEs to the markov server!\n",
      "Accuracy: 63.09%\n",
      "              precision    recall  f1-score   support\n",
      "\n",
      "  not sexist       0.68      0.63      0.65      1401\n",
      "      sexist       0.58      0.63      0.60      1132\n",
      "\n",
      "    accuracy                           0.63      2533\n",
      "   macro avg       0.63      0.63      0.63      2533\n",
      "weighted avg       0.63      0.63      0.63      2533\n",
      "\n"
     ]
    }
   ],
   "source": [
    "with recorder_dt:\n",
    "    dt_clf = dt_clf.fit(x_train_a, y_train_a)\n",
    "    dt_pred = dt_clf.predict(x_test_a)\n",
    "    acc = accuracy_score(dt_pred, y_test_a)\n",
    "    recorder_dt.add_record({\"accuracy\": acc})\n",
    "    cr = classification_report(y_test_a, dt_pred)\n",
    "    recorder_dt.add_record({\"classification_report\": cr})\n",
    "    cm = confusion_matrix(dt_pred, y_test_a)\n",
    "    recorder_dt.add_record({\"confusion_matrix\": cm})\n",
    "print(\"Accuracy:\",str('{:04.2f}'.format(acc*100))+'%')\n",
    "print(classification_report(y_test_a, dt_pred))\n",
    "clsf_report = pd.DataFrame(classification_report(y_test_a, dt_pred, output_dict=True)).transpose()\n",
    "clsf_report.to_csv(os.path.join(os.path.curdir, \"result/model1/Decision Tree/\", \"task_a_cls_report_logistic_decision_tree.csv\"), index= True)"
   ]
  },
  {
   "cell_type": "code",
   "execution_count": 21,
   "id": "39a2b543-2e90-49cc-adad-219da44718f7",
   "metadata": {},
   "outputs": [
    {
     "name": "stdout",
     "output_type": "stream",
     "text": [
      "0.6308724832214765\n"
     ]
    }
   ],
   "source": [
    "import pickle\n",
    "\n",
    "# save the model\n",
    "filename = './result/model1/Decision Tree/Decision_Tree_model.sav'\n",
    "pickle.dump(dt_clf, open(filename, 'wb'))\n",
    "\n",
    "# load the model\n",
    "loaded_model = pickle.load(open(filename, 'rb'))\n",
    "result = loaded_model.score(x_test_a, y_test_a)\n",
    "print(result)"
   ]
  },
  {
   "cell_type": "code",
   "execution_count": 22,
   "id": "ebd5c2b6-49d5-4268-a294-be89d8696eb4",
   "metadata": {},
   "outputs": [
    {
     "name": "stdout",
     "output_type": "stream",
     "text": [
      "not sexist\n"
     ]
    }
   ],
   "source": [
    "def predict_sexism(text, model, tfidf, lemmatizer, stop_words):\n",
    "    text = process_text(text, lemmatizer, stop_words)\n",
    "    text_vec = tfidf.transform([text])\n",
    "    prediction = model.predict(text_vec)\n",
    "    return prediction[0]\n",
    "\n",
    "# test the function\n",
    "example_text = \"I was told no woman who had children under the age of 6 had any business being outside the home.\"\n",
    "pred = predict_sexism(example_text, loaded_model, tfidf, lemmatizer, stop_words)\n",
    "print(pred) # should print 'not sexist' or 'sexist'\n"
   ]
  },
  {
   "cell_type": "code",
   "execution_count": 23,
   "id": "d607406f-896d-4f77-a705-758c46cde477",
   "metadata": {},
   "outputs": [
    {
     "data": {
      "text/html": [
       "<div>\n",
       "<style scoped>\n",
       "    .dataframe tbody tr th:only-of-type {\n",
       "        vertical-align: middle;\n",
       "    }\n",
       "\n",
       "    .dataframe tbody tr th {\n",
       "        vertical-align: top;\n",
       "    }\n",
       "\n",
       "    .dataframe thead th {\n",
       "        text-align: right;\n",
       "    }\n",
       "</style>\n",
       "<table border=\"1\" class=\"dataframe\">\n",
       "  <thead>\n",
       "    <tr style=\"text-align: right;\">\n",
       "      <th></th>\n",
       "      <th>actual</th>\n",
       "      <th>predicted</th>\n",
       "    </tr>\n",
       "  </thead>\n",
       "  <tbody>\n",
       "    <tr>\n",
       "      <th>18043</th>\n",
       "      <td>not sexist</td>\n",
       "      <td>sexist</td>\n",
       "    </tr>\n",
       "    <tr>\n",
       "      <th>2332</th>\n",
       "      <td>not sexist</td>\n",
       "      <td>not sexist</td>\n",
       "    </tr>\n",
       "    <tr>\n",
       "      <th>23724</th>\n",
       "      <td>sexist</td>\n",
       "      <td>sexist</td>\n",
       "    </tr>\n",
       "    <tr>\n",
       "      <th>17758</th>\n",
       "      <td>sexist</td>\n",
       "      <td>not sexist</td>\n",
       "    </tr>\n",
       "    <tr>\n",
       "      <th>1476</th>\n",
       "      <td>not sexist</td>\n",
       "      <td>not sexist</td>\n",
       "    </tr>\n",
       "  </tbody>\n",
       "</table>\n",
       "</div>"
      ],
      "text/plain": [
       "           actual   predicted\n",
       "18043  not sexist      sexist\n",
       "2332   not sexist  not sexist\n",
       "23724      sexist      sexist\n",
       "17758      sexist  not sexist\n",
       "1476   not sexist  not sexist"
      ]
     },
     "execution_count": 23,
     "metadata": {},
     "output_type": "execute_result"
    },
    {
     "name": "stdout",
     "output_type": "stream",
     "text": []
    },
    {
     "name": "stdout",
     "output_type": "stream",
     "text": []
    }
   ],
   "source": [
    "dict_data = {'actual': y_test_a, 'predicted': dt_pred} ## see which variables to take from accuracy_score line in previous code block\n",
    "df_markov = pd.DataFrame(data=dict_data)\n",
    "df_markov.to_csv(\"./result/model1/Decision Tree/recording_dt.csv\")\n",
    "df_markov.head()\n",
    "\n",
    "# now just map the not sexist with 0 and sexist with 1"
   ]
  },
  {
   "cell_type": "code",
   "execution_count": 24,
   "id": "4f62bf03-a39d-4202-8a66-e61ae0d38d52",
   "metadata": {},
   "outputs": [
    {
     "data": {
      "text/plain": [
       "<markov.api.recording.evaluations.evaluation_recorder.EvaluationRecorder at 0x7f609fdf5df0>"
      ]
     },
     "execution_count": 24,
     "metadata": {},
     "output_type": "execute_result"
    },
    {
     "name": "stdout",
     "output_type": "stream",
     "text": []
    },
    {
     "name": "stdout",
     "output_type": "stream",
     "text": []
    }
   ],
   "source": [
    "from markov import EvaluationRecorder\n",
    "evaluation_recorder_dt = EvaluationRecorder(\n",
    "    name=f\"Evaluating {recorder_dt.name}\",\n",
    "    notes=f\"Evaluation of model1 using MarkovML\",\n",
    "    model_id=recorder_dt.model_id\n",
    ")\n",
    "\n",
    "evaluation_recorder_dt.register()"
   ]
  },
  {
   "cell_type": "code",
   "execution_count": 25,
   "id": "b4fdd798-0a78-41a4-832b-ea2d2c9914e6",
   "metadata": {},
   "outputs": [
    {
     "name": "stderr",
     "output_type": "stream",
     "text": [
      "Upload Progress : 100%|██████████| 3/3 [00:01<00:00,  2.34batch/s]\n"
     ]
    },
    {
     "name": "stdout",
     "output_type": "stream",
     "text": [
      "EvaluationRecordingFinishResponse(count=2533, recording_id='5BHrMJG8fS3W9ZUaTGPjSoU', return_code='OK', message='', run_id='h5xSBKCz773UjzkS7UW')\n"
     ]
    }
   ],
   "source": [
    "import os\n",
    "import uuid\n",
    "\n",
    "from markov.api.schemas.model_recording import SingleTagInferenceRecord\n",
    "\n",
    "# create and register the recorder\n",
    "filepath = os.path.join('./result/model1/Decision Tree/recording_dt.csv')\n",
    "with open(filepath) as f:\n",
    "    for line in f:\n",
    "        # Assign a unique identifier for individual records\n",
    "        record_id = str(uuid.uuid4())\n",
    "        tokens = line.strip('\\n').split(',')\n",
    "        record = SingleTagInferenceRecord(\n",
    "            urid=record_id,\n",
    "            inferred=tokens[2],\n",
    "            actual=tokens[1],\n",
    "            score=float(tokens[0])\n",
    "        )\n",
    "        evaluation_recorder_dt.add_record(record)\n",
    "outcome = evaluation_recorder_dt.finish()\n",
    "print(outcome)"
   ]
  },
  {
   "cell_type": "code",
   "execution_count": null,
   "id": "a145f785-1c40-41cc-8f57-42c6e94d1251",
   "metadata": {},
   "outputs": [],
   "source": [
    "# Xgboost Model"
   ]
  },
  {
   "cell_type": "code",
   "execution_count": 27,
   "id": "d5ba71e9-082e-4cb5-88db-6dcd73e95ff4",
   "metadata": {},
   "outputs": [
    {
     "name": "stdout",
     "output_type": "stream",
     "text": []
    },
    {
     "name": "stdout",
     "output_type": "stream",
     "text": []
    }
   ],
   "source": [
    "\n",
    "\n",
    "from sklearn.preprocessing import LabelEncoder\n",
    "le = LabelEncoder()\n",
    "y_train_a_enc = le.fit_transform(y_train_a)\n",
    "y_test_a_enc = le.fit_transform(y_test_a)"
   ]
  },
  {
   "cell_type": "code",
   "execution_count": 33,
   "id": "3564fdcb-2e3e-4e40-8b58-d5017b278a65",
   "metadata": {},
   "outputs": [
    {
     "name": "stdout",
     "output_type": "stream",
     "text": [
      "✔ Creating Model Model creation successful!\n",
      "✔ Registering Hyper Parameter Recorder with Markov Backend. Recorder successfully registered.\n",
      "ℹ You can view the experiment at \u001b\\https://app.markovml.com/wsp-27m23rbvum/proj/3GEEgreNQVvGxs/experiments/hp-7i6amaWRFg2vbm3gYpfmsSX\u001b]8;;\u001b\\\n"
     ]
    }
   ],
   "source": [
    "import markov\n",
    "\n",
    "hyper_parameters = {\"random_state\":5}\n",
    "xgb_clf = xgb.XGBClassifier(objective=\"binary:logistic\", random_state=5)\n",
    "\n",
    "\n",
    "# Use the ExperimentRecorder constuctor provided by the MarkovML SDK\n",
    "# to create a new experiment recorder\n",
    "recorder_xgb = markov.ExperimentRecorder(\n",
    "    # Name of the experiment recording\n",
    "   name=\"Model 1 Xgboost experiment\",\n",
    "    # Project associated with the experiment\n",
    "    # project_id=my_project.project_id,\n",
    "    project_id = \"3GEEgreNQVvGxs\",\n",
    "    # Hyper-parameters used for model training\n",
    "   hyper_parameters = {\"random_state\":5},\n",
    "    # Additional notes (optional)\n",
    "    model_class=markov.ModelClass.TAGGING,\n",
    "    notes=\"This is a experiment describing the model-1 Xgboost\"\n",
    ")\n",
    "\n",
    "\n"
   ]
  },
  {
   "cell_type": "code",
   "execution_count": 34,
   "id": "325c8e7e-4cec-46f5-8c2d-861f3ab15cbe",
   "metadata": {},
   "outputs": [
    {
     "name": "stdout",
     "output_type": "stream",
     "text": [
      "ℹ Starting recorder to track training data on markov backend.\n",
      "⚠ Please wait while we send the remaining data to the markov backend... Could not send all QUEUE_MESSAGE_TYPEs to the markov server!\n",
      "Accuracy: 79.31%\n",
      "              precision    recall  f1-score   support\n",
      "\n",
      "           0       0.82      0.80      0.81      1401\n",
      "           1       0.76      0.78      0.77      1132\n",
      "\n",
      "    accuracy                           0.79      2533\n",
      "   macro avg       0.79      0.79      0.79      2533\n",
      "weighted avg       0.79      0.79      0.79      2533\n",
      "\n"
     ]
    }
   ],
   "source": [
    "with recorder_xgb:\n",
    "    xgb_clf.fit(x_train_a, y_train_a_enc)\n",
    "    y_pred = xgb_clf.predict(x_test_a)\n",
    "    y_pred_enc = le.fit_transform(y_pred)\n",
    "    acc = accuracy_score(y_pred_enc, y_test_a_enc)\n",
    "    recorder_xgb.add_record({\"accuracy\": acc})\n",
    "    cr = classification_report(y_pred_enc, y_test_a_enc)\n",
    "    recorder_xgb.add_record({\"classification_report\": cr})\n",
    "    cm = confusion_matrix(y_pred_enc, y_test_a_enc)\n",
    "    recorder_xgb.add_record({\"confusion_matrix\": cm})\n",
    "print(\"Accuracy:\",str('{:04.2f}'.format(acc*100))+'%')\n",
    "print(classification_report(y_test_a_enc, y_pred_enc))\n",
    "clsf_report = pd.DataFrame(classification_report(y_test_a_enc, y_pred_enc, output_dict=True)).transpose()\n",
    "clsf_report.to_csv(os.path.join(os.path.curdir, \"result/model1/Xgboost/\", \"task_a_cls_report_xgboost.csv\"), index= True)"
   ]
  },
  {
   "cell_type": "code",
   "execution_count": 39,
   "id": "4818a717-ea0e-455a-a259-e7e39b2f2b01",
   "metadata": {},
   "outputs": [
    {
     "name": "stdout",
     "output_type": "stream",
     "text": [
      "Accuracy: 0.7931306750888275\n"
     ]
    }
   ],
   "source": [
    "import pickle\n",
    "\n",
    "# save the model\n",
    "filename = './result/model1/Xgboost/Xgboost_model.pkl'\n",
    "pickle.dump(xgb_clf, open(filename, 'wb'))\n",
    "\n",
    "# load the model\n",
    "loaded_model = pickle.load(open(filename, 'rb'))\n",
    "# make predictions with the loaded model\n",
    "y_pred = loaded_model.predict(x_test_a)\n",
    "y_pred_enc = le.fit_transform(y_pred)\n",
    "\n",
    "# evaluate the loaded model\n",
    "acc = accuracy_score(y_pred_enc, y_test_a_enc)\n",
    "print(\"Accuracy:\", acc)"
   ]
  },
  {
   "cell_type": "code",
   "execution_count": 40,
   "id": "c7dd3fb4-3d9e-4067-afdc-38e30f7a07bf",
   "metadata": {},
   "outputs": [
    {
     "name": "stdout",
     "output_type": "stream",
     "text": [
      "1\n"
     ]
    }
   ],
   "source": [
    "def predict_sexism(text, model, tfidf, lemmatizer, stop_words):\n",
    "    text = process_text(text, lemmatizer, stop_words)\n",
    "    text_vec = tfidf.transform([text])\n",
    "    prediction = model.predict(text_vec)\n",
    "    return prediction[0]\n",
    "\n",
    "# test the function\n",
    "example_text = \"I was told no woman who had children under the age of 6 had any business being outside the home.\"\n",
    "pred = predict_sexism(example_text, loaded_model, tfidf, lemmatizer, stop_words)\n",
    "print(pred) # should print 'not sexist' or 'sexist'\n"
   ]
  },
  {
   "cell_type": "code",
   "execution_count": 41,
   "id": "ab113726-0147-4ef8-9554-3009bf5808d2",
   "metadata": {},
   "outputs": [
    {
     "data": {
      "text/html": [
       "<div>\n",
       "<style scoped>\n",
       "    .dataframe tbody tr th:only-of-type {\n",
       "        vertical-align: middle;\n",
       "    }\n",
       "\n",
       "    .dataframe tbody tr th {\n",
       "        vertical-align: top;\n",
       "    }\n",
       "\n",
       "    .dataframe thead th {\n",
       "        text-align: right;\n",
       "    }\n",
       "</style>\n",
       "<table border=\"1\" class=\"dataframe\">\n",
       "  <thead>\n",
       "    <tr style=\"text-align: right;\">\n",
       "      <th></th>\n",
       "      <th>actual</th>\n",
       "      <th>predicted</th>\n",
       "    </tr>\n",
       "  </thead>\n",
       "  <tbody>\n",
       "    <tr>\n",
       "      <th>0</th>\n",
       "      <td>0</td>\n",
       "      <td>1</td>\n",
       "    </tr>\n",
       "    <tr>\n",
       "      <th>1</th>\n",
       "      <td>0</td>\n",
       "      <td>1</td>\n",
       "    </tr>\n",
       "    <tr>\n",
       "      <th>2</th>\n",
       "      <td>1</td>\n",
       "      <td>1</td>\n",
       "    </tr>\n",
       "    <tr>\n",
       "      <th>3</th>\n",
       "      <td>1</td>\n",
       "      <td>1</td>\n",
       "    </tr>\n",
       "    <tr>\n",
       "      <th>4</th>\n",
       "      <td>0</td>\n",
       "      <td>1</td>\n",
       "    </tr>\n",
       "  </tbody>\n",
       "</table>\n",
       "</div>"
      ],
      "text/plain": [
       "   actual  predicted\n",
       "0       0          1\n",
       "1       0          1\n",
       "2       1          1\n",
       "3       1          1\n",
       "4       0          1"
      ]
     },
     "execution_count": 41,
     "metadata": {},
     "output_type": "execute_result"
    },
    {
     "name": "stdout",
     "output_type": "stream",
     "text": []
    },
    {
     "name": "stdout",
     "output_type": "stream",
     "text": []
    },
    {
     "name": "stdout",
     "output_type": "stream",
     "text": []
    }
   ],
   "source": [
    "dict_data = {'actual': y_test_a_enc, 'predicted': y_pred_enc}\n",
    "df_xgb = pd.DataFrame(data=dict_data)\n",
    "# save the dataframe to a CSV file\n",
    "df_xgb.to_csv(\"./result/model1/Xgboost/recording_xgb.csv\")\n",
    "\n",
    "# display the first few rows of the dataframe\n",
    "df_xgb.head()\n",
    "# now just map the not sexist with 0 and sexist with 1"
   ]
  },
  {
   "cell_type": "code",
   "execution_count": 42,
   "id": "80407d00-3ce3-440f-9eef-342aee6f4619",
   "metadata": {},
   "outputs": [
    {
     "data": {
      "text/plain": [
       "<markov.api.recording.evaluations.evaluation_recorder.EvaluationRecorder at 0x7f609fde80d0>"
      ]
     },
     "execution_count": 42,
     "metadata": {},
     "output_type": "execute_result"
    },
    {
     "name": "stdout",
     "output_type": "stream",
     "text": []
    },
    {
     "name": "stdout",
     "output_type": "stream",
     "text": []
    },
    {
     "name": "stdout",
     "output_type": "stream",
     "text": []
    }
   ],
   "source": [
    "from markov import EvaluationRecorder\n",
    "evaluation_recorder_xgb = EvaluationRecorder(\n",
    "    name=f\"Evaluating {recorder_xgb.name}\",\n",
    "    notes=f\"Evaluation of model1 using MarkovML\",\n",
    "    model_id=recorder_xgb.model_id\n",
    ")\n",
    "\n",
    "evaluation_recorder_xgb.register()"
   ]
  },
  {
   "cell_type": "code",
   "execution_count": 43,
   "id": "49dcb2d1-a2a7-413d-9fb7-c800685e8dac",
   "metadata": {},
   "outputs": [
    {
     "name": "stderr",
     "output_type": "stream",
     "text": [
      "Upload Progress : 100%|██████████| 3/3 [00:00<00:00,  4.76batch/s]\n"
     ]
    },
    {
     "name": "stdout",
     "output_type": "stream",
     "text": [
      "EvaluationRecordingFinishResponse(count=2533, recording_id='9LNQfVnKRHwDL8vh5ispDQg', return_code='OK', message='', run_id='Vnv2ESzVd4TFbRey8qr')\n"
     ]
    }
   ],
   "source": [
    "import os\n",
    "import uuid\n",
    "\n",
    "from markov.api.schemas.model_recording import SingleTagInferenceRecord\n",
    "\n",
    "# create and register the recorder\n",
    "filepath = os.path.join('./result/model1/Xgboost/recording_xgb.csv')\n",
    "with open(filepath) as f:\n",
    "    for line in f:\n",
    "        # Assign a unique identifier for individual records\n",
    "        record_id = str(uuid.uuid4())\n",
    "        tokens = line.strip('\\n').split(',')\n",
    "        record = SingleTagInferenceRecord(\n",
    "            urid=record_id,\n",
    "            inferred=tokens[2],\n",
    "            actual=tokens[1],\n",
    "            score=float(tokens[0])\n",
    "        )\n",
    "        evaluation_recorder_xgb.add_record(record)\n",
    "outcome = evaluation_recorder_xgb.finish()\n",
    "print(outcome)"
   ]
  },
  {
   "cell_type": "code",
   "execution_count": 44,
   "id": "3ee73f63-b219-449f-9b93-e43f4ff21d52",
   "metadata": {},
   "outputs": [
    {
     "name": "stdout",
     "output_type": "stream",
     "text": []
    },
    {
     "name": "stdout",
     "output_type": "stream",
     "text": []
    },
    {
     "name": "stdout",
     "output_type": "stream",
     "text": []
    }
   ],
   "source": [
    "#random forest"
   ]
  },
  {
   "cell_type": "code",
   "execution_count": 14,
   "id": "b357ca02-abaa-477c-a18a-f9788ed0f557",
   "metadata": {},
   "outputs": [
    {
     "name": "stdout",
     "output_type": "stream",
     "text": [
      "✔ Creating Model Model creation successful!\n",
      "✔ Registering Hyper Parameter Recorder with Markov Backend. Recorder successfully registered.\n",
      "ℹ You can view the experiment at \u001b\\https://app.markovml.com/wsp-27m23rbvum/proj/3GEEgreNQVvGxs/experiments/hp-4cyFFgRprjPgnpPEeAcxEjN\u001b]8;;\u001b\\\n"
     ]
    }
   ],
   "source": [
    "import markov\n",
    "\n",
    "hyper_parameters = {}\n",
    "rf_clf = RandomForestClassifier()\n",
    "\n",
    "\n",
    "# Use the ExperimentRecorder constuctor provided by the MarkovML SDK\n",
    "# to create a new experiment recorder\n",
    "recorder_rf = markov.ExperimentRecorder(\n",
    "    # Name of the experiment recording\n",
    "   name=\"Model-1 Random Forest experiment\",\n",
    "    # Project associated with the experiment\n",
    "    # project_id=my_project.project_id,\n",
    "    project_id = \"3GEEgreNQVvGxs\",\n",
    "    # Hyper-parameters used for model training\n",
    "   hyper_parameters = {},\n",
    "    # Additional notes (optional)\n",
    "    model_class=markov.ModelClass.TAGGING,\n",
    "    notes=\"This is a experiment describing the model-1 Random Forest\"\n",
    ")\n",
    "\n",
    "\n"
   ]
  },
  {
   "cell_type": "code",
   "execution_count": 15,
   "id": "ef72ca7c-3e4d-498f-82fe-761115ca501e",
   "metadata": {},
   "outputs": [
    {
     "name": "stdout",
     "output_type": "stream",
     "text": [
      "ℹ Starting recorder to track training data on markov backend.\n",
      "⚠ Please wait while we send the remaining data to the markov backend... Could not send all QUEUE_MESSAGE_TYPEs to the markov server!\n",
      "Accuracy: 81.25%\n",
      "              precision    recall  f1-score   support\n",
      "\n",
      "  not sexist       0.84      0.82      0.83      1401\n",
      "      sexist       0.78      0.80      0.79      1132\n",
      "\n",
      "    accuracy                           0.81      2533\n",
      "   macro avg       0.81      0.81      0.81      2533\n",
      "weighted avg       0.81      0.81      0.81      2533\n",
      "\n"
     ]
    }
   ],
   "source": [
    "with recorder_rf:\n",
    "    rf_clf.fit(x_train_a, y_train_a)\n",
    "    rf_pred = rf_clf.predict(x_test_a)\n",
    "    acc = accuracy_score(rf_pred, y_test_a)\n",
    "    recorder_rf.add_record({\"accuracy\": acc})\n",
    "    cr = classification_report(y_test_a, rf_pred)\n",
    "    recorder_rf.add_record({\"classification_report\": cr})\n",
    "    cm = confusion_matrix(y_test_a, rf_pred)\n",
    "    recorder_rf.add_record({\"confusion_matrix\": cm})\n",
    "print(\"Accuracy:\",str('{:04.2f}'.format(acc*100))+'%')\n",
    "print(classification_report(y_test_a, rf_pred))\n",
    "clsf_report = pd.DataFrame(classification_report(y_test_a, rf_pred, output_dict=True)).transpose()\n",
    "clsf_report.to_csv(os.path.join(os.path.curdir, \"result/model1/Random Forest/\", \"task_a_cls_report_random_forest.csv\"), index= True)"
   ]
  },
  {
   "cell_type": "code",
   "execution_count": 16,
   "id": "d770ac3c-f148-45ae-8e1b-9cf93cbdaf4c",
   "metadata": {},
   "outputs": [
    {
     "name": "stdout",
     "output_type": "stream",
     "text": [
      "Accuracy: 81.25%\n",
      "              precision    recall  f1-score   support\n",
      "\n",
      "  not sexist       0.84      0.82      0.83      1401\n",
      "      sexist       0.78      0.80      0.79      1132\n",
      "\n",
      "    accuracy                           0.81      2533\n",
      "   macro avg       0.81      0.81      0.81      2533\n",
      "weighted avg       0.81      0.81      0.81      2533\n",
      "\n"
     ]
    }
   ],
   "source": [
    "import pickle\n",
    "\n",
    "# save the model\n",
    "filename = './result/model1/Random Forest/RandomForest_model.pkl'\n",
    "pickle.dump(rf_clf, open(filename, 'wb'))\n",
    "\n",
    "# load the model from disk\n",
    "loaded_model = pickle.load(open(filename, 'rb'))\n",
    "\n",
    "# make predictions with the loaded model\n",
    "rf_pred = loaded_model.predict(x_test_a)\n",
    "\n",
    "# evaluate the loaded model\n",
    "acc = accuracy_score(rf_pred, y_test_a)\n",
    "print(\"Accuracy:\",str('{:04.2f}'.format(acc*100))+'%')\n",
    "print(classification_report(y_test_a, rf_pred))"
   ]
  },
  {
   "cell_type": "code",
   "execution_count": 17,
   "id": "6c20ccc4-205a-4456-a23c-cbb709855dbe",
   "metadata": {},
   "outputs": [
    {
     "name": "stdout",
     "output_type": "stream",
     "text": [
      "sexist\n"
     ]
    }
   ],
   "source": [
    "def predict_sexism(text, model, tfidf, lemmatizer, stop_words):\n",
    "    text = process_text(text, lemmatizer, stop_words)\n",
    "    text_vec = tfidf.transform([text])\n",
    "    prediction = model.predict(text_vec)\n",
    "    return prediction[0]\n",
    "\n",
    "# test the function\n",
    "example_text = \"I was told no woman who had children under the age of 6 had any business being outside the home.\"\n",
    "pred = predict_sexism(example_text, loaded_model, tfidf, lemmatizer, stop_words)\n",
    "print(pred) # should print 'not sexist' or 'sexist'\n"
   ]
  },
  {
   "cell_type": "code",
   "execution_count": 18,
   "id": "9e553756-fbec-4656-9ba9-adef862fa2fe",
   "metadata": {},
   "outputs": [
    {
     "data": {
      "text/html": [
       "<div>\n",
       "<style scoped>\n",
       "    .dataframe tbody tr th:only-of-type {\n",
       "        vertical-align: middle;\n",
       "    }\n",
       "\n",
       "    .dataframe tbody tr th {\n",
       "        vertical-align: top;\n",
       "    }\n",
       "\n",
       "    .dataframe thead th {\n",
       "        text-align: right;\n",
       "    }\n",
       "</style>\n",
       "<table border=\"1\" class=\"dataframe\">\n",
       "  <thead>\n",
       "    <tr style=\"text-align: right;\">\n",
       "      <th></th>\n",
       "      <th>actual</th>\n",
       "      <th>predicted</th>\n",
       "    </tr>\n",
       "  </thead>\n",
       "  <tbody>\n",
       "    <tr>\n",
       "      <th>25687</th>\n",
       "      <td>not sexist</td>\n",
       "      <td>not sexist</td>\n",
       "    </tr>\n",
       "    <tr>\n",
       "      <th>1163</th>\n",
       "      <td>not sexist</td>\n",
       "      <td>not sexist</td>\n",
       "    </tr>\n",
       "    <tr>\n",
       "      <th>23724</th>\n",
       "      <td>sexist</td>\n",
       "      <td>sexist</td>\n",
       "    </tr>\n",
       "    <tr>\n",
       "      <th>17758</th>\n",
       "      <td>sexist</td>\n",
       "      <td>sexist</td>\n",
       "    </tr>\n",
       "    <tr>\n",
       "      <th>11829</th>\n",
       "      <td>not sexist</td>\n",
       "      <td>not sexist</td>\n",
       "    </tr>\n",
       "  </tbody>\n",
       "</table>\n",
       "</div>"
      ],
      "text/plain": [
       "           actual   predicted\n",
       "25687  not sexist  not sexist\n",
       "1163   not sexist  not sexist\n",
       "23724      sexist      sexist\n",
       "17758      sexist      sexist\n",
       "11829  not sexist  not sexist"
      ]
     },
     "execution_count": 18,
     "metadata": {},
     "output_type": "execute_result"
    },
    {
     "name": "stdout",
     "output_type": "stream",
     "text": []
    },
    {
     "name": "stdout",
     "output_type": "stream",
     "text": []
    }
   ],
   "source": [
    "# create a dataframe with actual and predicted values\n",
    "dict_data = {'actual': y_test_a, 'predicted': rf_pred}\n",
    "df_rf = pd.DataFrame(data=dict_data)\n",
    "\n",
    "# save the dataframe to a CSV file\n",
    "df_rf.to_csv(\"./result/model1/Random Forest/recording_rf.csv\")\n",
    "\n",
    "# display the first few rows of the dataframe\n",
    "df_rf.head()"
   ]
  },
  {
   "cell_type": "code",
   "execution_count": 19,
   "id": "528749ec-e5c6-4506-a785-ce26b1a6d5ba",
   "metadata": {},
   "outputs": [
    {
     "data": {
      "text/plain": [
       "<markov.api.recording.evaluations.evaluation_recorder.EvaluationRecorder at 0x7f3ea416d5b0>"
      ]
     },
     "execution_count": 19,
     "metadata": {},
     "output_type": "execute_result"
    },
    {
     "name": "stdout",
     "output_type": "stream",
     "text": []
    },
    {
     "name": "stdout",
     "output_type": "stream",
     "text": []
    }
   ],
   "source": [
    "from markov import EvaluationRecorder\n",
    "evaluation_recorder_rf = EvaluationRecorder(\n",
    "    name=f\"Evaluating {recorder_rf.name}\",\n",
    "    notes=f\"Evaluation of model1 using MarkovML\",\n",
    "    model_id=recorder_rf.model_id\n",
    ")\n",
    "\n",
    "evaluation_recorder_rf.register()"
   ]
  },
  {
   "cell_type": "code",
   "execution_count": 20,
   "id": "8970caef-7ee2-4303-ab1e-9e9bdf593e64",
   "metadata": {},
   "outputs": [
    {
     "name": "stderr",
     "output_type": "stream",
     "text": [
      "Upload Progress : 100%|██████████| 3/3 [00:00<00:00,  3.11batch/s]\n"
     ]
    },
    {
     "name": "stdout",
     "output_type": "stream",
     "text": [
      "EvaluationRecordingFinishResponse(count=2533, recording_id='4g4AUYNE45oMH7G7PLTPGoB', return_code='OK', message='', run_id='3CGLd8GpbsW34EM84AC')\n"
     ]
    }
   ],
   "source": [
    "import os\n",
    "import uuid\n",
    "\n",
    "from markov.api.schemas.model_recording import SingleTagInferenceRecord\n",
    "\n",
    "# create and register the recorder\n",
    "filepath = os.path.join('./result/model1/Random Forest/recording_rf.csv')\n",
    "with open(filepath) as f:\n",
    "    for line in f:\n",
    "        # Assign a unique identifier for individual records\n",
    "        record_id = str(uuid.uuid4())\n",
    "        tokens = line.strip('\\n').split(',')\n",
    "        record = SingleTagInferenceRecord(\n",
    "            urid=record_id,\n",
    "            inferred=tokens[2],\n",
    "            actual=tokens[1],\n",
    "            score=float(tokens[0])\n",
    "        )\n",
    "        evaluation_recorder_rf.add_record(record)\n",
    "outcome = evaluation_recorder_rf.finish()\n",
    "print(outcome)"
   ]
  },
  {
   "cell_type": "code",
   "execution_count": null,
   "id": "2ff72894-fb6e-4c05-8620-c069a0ec8976",
   "metadata": {},
   "outputs": [],
   "source": []
  }
 ],
 "metadata": {
  "kernelspec": {
   "display_name": "Python 3 (ipykernel)",
   "language": "python",
   "name": "python3"
  },
  "language_info": {
   "codemirror_mode": {
    "name": "ipython",
    "version": 3
   },
   "file_extension": ".py",
   "mimetype": "text/x-python",
   "name": "python",
   "nbconvert_exporter": "python",
   "pygments_lexer": "ipython3",
   "version": "3.9.7"
  }
 },
 "nbformat": 4,
 "nbformat_minor": 5
}
